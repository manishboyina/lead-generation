{
 "cells": [
  {
   "cell_type": "code",
   "execution_count": 1,
   "metadata": {},
   "outputs": [],
   "source": [
    "#importing libraries\n",
    "\n",
    "import numpy as np\n",
    "import pandas as pd\n",
    "import matplotlib.pyplot as plt\n",
    "import seaborn as sns\n",
    "\n",
    "import warnings\n",
    "warnings.filterwarnings('ignore')\n",
    "\n",
    "from sklearn.preprocessing import StandardScaler\n",
    "from sklearn.model_selection import train_test_split\n",
    "\n"
   ]
  },
  {
   "cell_type": "code",
   "execution_count": 2,
   "metadata": {},
   "outputs": [
    {
     "data": {
      "text/html": [
       "<div>\n",
       "<style scoped>\n",
       "    .dataframe tbody tr th:only-of-type {\n",
       "        vertical-align: middle;\n",
       "    }\n",
       "\n",
       "    .dataframe tbody tr th {\n",
       "        vertical-align: top;\n",
       "    }\n",
       "\n",
       "    .dataframe thead th {\n",
       "        text-align: right;\n",
       "    }\n",
       "</style>\n",
       "<table border=\"1\" class=\"dataframe\">\n",
       "  <thead>\n",
       "    <tr style=\"text-align: right;\">\n",
       "      <th></th>\n",
       "      <th>Prospect ID</th>\n",
       "      <th>Lead Number</th>\n",
       "      <th>Lead Origin</th>\n",
       "      <th>Lead Source</th>\n",
       "      <th>Do Not Email</th>\n",
       "      <th>Do Not Call</th>\n",
       "      <th>Converted</th>\n",
       "      <th>TotalVisits</th>\n",
       "      <th>Total Time Spent on Website</th>\n",
       "      <th>Page Views Per Visit</th>\n",
       "      <th>...</th>\n",
       "      <th>Get updates on DM Content</th>\n",
       "      <th>Lead Profile</th>\n",
       "      <th>City</th>\n",
       "      <th>Asymmetrique Activity Index</th>\n",
       "      <th>Asymmetrique Profile Index</th>\n",
       "      <th>Asymmetrique Activity Score</th>\n",
       "      <th>Asymmetrique Profile Score</th>\n",
       "      <th>I agree to pay the amount through cheque</th>\n",
       "      <th>A free copy of Mastering The Interview</th>\n",
       "      <th>Last Notable Activity</th>\n",
       "    </tr>\n",
       "  </thead>\n",
       "  <tbody>\n",
       "    <tr>\n",
       "      <th>0</th>\n",
       "      <td>7927b2df-8bba-4d29-b9a2-b6e0beafe620</td>\n",
       "      <td>660737</td>\n",
       "      <td>API</td>\n",
       "      <td>Olark Chat</td>\n",
       "      <td>No</td>\n",
       "      <td>No</td>\n",
       "      <td>0</td>\n",
       "      <td>0.0</td>\n",
       "      <td>0</td>\n",
       "      <td>0.0</td>\n",
       "      <td>...</td>\n",
       "      <td>No</td>\n",
       "      <td>Select</td>\n",
       "      <td>Select</td>\n",
       "      <td>02.Medium</td>\n",
       "      <td>02.Medium</td>\n",
       "      <td>15.0</td>\n",
       "      <td>15.0</td>\n",
       "      <td>No</td>\n",
       "      <td>No</td>\n",
       "      <td>Modified</td>\n",
       "    </tr>\n",
       "    <tr>\n",
       "      <th>1</th>\n",
       "      <td>2a272436-5132-4136-86fa-dcc88c88f482</td>\n",
       "      <td>660728</td>\n",
       "      <td>API</td>\n",
       "      <td>Organic Search</td>\n",
       "      <td>No</td>\n",
       "      <td>No</td>\n",
       "      <td>0</td>\n",
       "      <td>5.0</td>\n",
       "      <td>674</td>\n",
       "      <td>2.5</td>\n",
       "      <td>...</td>\n",
       "      <td>No</td>\n",
       "      <td>Select</td>\n",
       "      <td>Select</td>\n",
       "      <td>02.Medium</td>\n",
       "      <td>02.Medium</td>\n",
       "      <td>15.0</td>\n",
       "      <td>15.0</td>\n",
       "      <td>No</td>\n",
       "      <td>No</td>\n",
       "      <td>Email Opened</td>\n",
       "    </tr>\n",
       "    <tr>\n",
       "      <th>2</th>\n",
       "      <td>8cc8c611-a219-4f35-ad23-fdfd2656bd8a</td>\n",
       "      <td>660727</td>\n",
       "      <td>Landing Page Submission</td>\n",
       "      <td>Direct Traffic</td>\n",
       "      <td>No</td>\n",
       "      <td>No</td>\n",
       "      <td>1</td>\n",
       "      <td>2.0</td>\n",
       "      <td>1532</td>\n",
       "      <td>2.0</td>\n",
       "      <td>...</td>\n",
       "      <td>No</td>\n",
       "      <td>Potential Lead</td>\n",
       "      <td>Mumbai</td>\n",
       "      <td>02.Medium</td>\n",
       "      <td>01.High</td>\n",
       "      <td>14.0</td>\n",
       "      <td>20.0</td>\n",
       "      <td>No</td>\n",
       "      <td>Yes</td>\n",
       "      <td>Email Opened</td>\n",
       "    </tr>\n",
       "    <tr>\n",
       "      <th>3</th>\n",
       "      <td>0cc2df48-7cf4-4e39-9de9-19797f9b38cc</td>\n",
       "      <td>660719</td>\n",
       "      <td>Landing Page Submission</td>\n",
       "      <td>Direct Traffic</td>\n",
       "      <td>No</td>\n",
       "      <td>No</td>\n",
       "      <td>0</td>\n",
       "      <td>1.0</td>\n",
       "      <td>305</td>\n",
       "      <td>1.0</td>\n",
       "      <td>...</td>\n",
       "      <td>No</td>\n",
       "      <td>Select</td>\n",
       "      <td>Mumbai</td>\n",
       "      <td>02.Medium</td>\n",
       "      <td>01.High</td>\n",
       "      <td>13.0</td>\n",
       "      <td>17.0</td>\n",
       "      <td>No</td>\n",
       "      <td>No</td>\n",
       "      <td>Modified</td>\n",
       "    </tr>\n",
       "    <tr>\n",
       "      <th>4</th>\n",
       "      <td>3256f628-e534-4826-9d63-4a8b88782852</td>\n",
       "      <td>660681</td>\n",
       "      <td>Landing Page Submission</td>\n",
       "      <td>Google</td>\n",
       "      <td>No</td>\n",
       "      <td>No</td>\n",
       "      <td>1</td>\n",
       "      <td>2.0</td>\n",
       "      <td>1428</td>\n",
       "      <td>1.0</td>\n",
       "      <td>...</td>\n",
       "      <td>No</td>\n",
       "      <td>Select</td>\n",
       "      <td>Mumbai</td>\n",
       "      <td>02.Medium</td>\n",
       "      <td>01.High</td>\n",
       "      <td>15.0</td>\n",
       "      <td>18.0</td>\n",
       "      <td>No</td>\n",
       "      <td>No</td>\n",
       "      <td>Modified</td>\n",
       "    </tr>\n",
       "  </tbody>\n",
       "</table>\n",
       "<p>5 rows × 37 columns</p>\n",
       "</div>"
      ],
      "text/plain": [
       "                            Prospect ID  Lead Number              Lead Origin  \\\n",
       "0  7927b2df-8bba-4d29-b9a2-b6e0beafe620       660737                      API   \n",
       "1  2a272436-5132-4136-86fa-dcc88c88f482       660728                      API   \n",
       "2  8cc8c611-a219-4f35-ad23-fdfd2656bd8a       660727  Landing Page Submission   \n",
       "3  0cc2df48-7cf4-4e39-9de9-19797f9b38cc       660719  Landing Page Submission   \n",
       "4  3256f628-e534-4826-9d63-4a8b88782852       660681  Landing Page Submission   \n",
       "\n",
       "      Lead Source Do Not Email Do Not Call  Converted  TotalVisits  \\\n",
       "0      Olark Chat           No          No          0          0.0   \n",
       "1  Organic Search           No          No          0          5.0   \n",
       "2  Direct Traffic           No          No          1          2.0   \n",
       "3  Direct Traffic           No          No          0          1.0   \n",
       "4          Google           No          No          1          2.0   \n",
       "\n",
       "   Total Time Spent on Website  Page Views Per Visit  ...  \\\n",
       "0                            0                   0.0  ...   \n",
       "1                          674                   2.5  ...   \n",
       "2                         1532                   2.0  ...   \n",
       "3                          305                   1.0  ...   \n",
       "4                         1428                   1.0  ...   \n",
       "\n",
       "  Get updates on DM Content    Lead Profile    City  \\\n",
       "0                        No          Select  Select   \n",
       "1                        No          Select  Select   \n",
       "2                        No  Potential Lead  Mumbai   \n",
       "3                        No          Select  Mumbai   \n",
       "4                        No          Select  Mumbai   \n",
       "\n",
       "  Asymmetrique Activity Index Asymmetrique Profile Index  \\\n",
       "0                   02.Medium                  02.Medium   \n",
       "1                   02.Medium                  02.Medium   \n",
       "2                   02.Medium                    01.High   \n",
       "3                   02.Medium                    01.High   \n",
       "4                   02.Medium                    01.High   \n",
       "\n",
       "  Asymmetrique Activity Score Asymmetrique Profile Score  \\\n",
       "0                        15.0                       15.0   \n",
       "1                        15.0                       15.0   \n",
       "2                        14.0                       20.0   \n",
       "3                        13.0                       17.0   \n",
       "4                        15.0                       18.0   \n",
       "\n",
       "  I agree to pay the amount through cheque  \\\n",
       "0                                       No   \n",
       "1                                       No   \n",
       "2                                       No   \n",
       "3                                       No   \n",
       "4                                       No   \n",
       "\n",
       "  A free copy of Mastering The Interview Last Notable Activity  \n",
       "0                                     No              Modified  \n",
       "1                                     No          Email Opened  \n",
       "2                                    Yes          Email Opened  \n",
       "3                                     No              Modified  \n",
       "4                                     No              Modified  \n",
       "\n",
       "[5 rows x 37 columns]"
      ]
     },
     "execution_count": 2,
     "metadata": {},
     "output_type": "execute_result"
    }
   ],
   "source": [
    "leads=pd.read_csv(\"D:\\\\Innomick\\\\lead scoring\\\\Leads.csv\")\n",
    "leads.head()\n"
   ]
  },
  {
   "cell_type": "code",
   "execution_count": 3,
   "metadata": {},
   "outputs": [
    {
     "data": {
      "text/plain": [
       "(9240, 37)"
      ]
     },
     "execution_count": 3,
     "metadata": {},
     "output_type": "execute_result"
    }
   ],
   "source": [
    "leads.shape\n"
   ]
  },
  {
   "cell_type": "code",
   "execution_count": 4,
   "metadata": {},
   "outputs": [
    {
     "data": {
      "text/html": [
       "<div>\n",
       "<style scoped>\n",
       "    .dataframe tbody tr th:only-of-type {\n",
       "        vertical-align: middle;\n",
       "    }\n",
       "\n",
       "    .dataframe tbody tr th {\n",
       "        vertical-align: top;\n",
       "    }\n",
       "\n",
       "    .dataframe thead th {\n",
       "        text-align: right;\n",
       "    }\n",
       "</style>\n",
       "<table border=\"1\" class=\"dataframe\">\n",
       "  <thead>\n",
       "    <tr style=\"text-align: right;\">\n",
       "      <th></th>\n",
       "      <th>Data Type</th>\n",
       "      <th>No of Levels</th>\n",
       "      <th>Levels</th>\n",
       "      <th>NaN</th>\n",
       "      <th>NaN%</th>\n",
       "    </tr>\n",
       "  </thead>\n",
       "  <tbody>\n",
       "    <tr>\n",
       "      <th>Prospect ID</th>\n",
       "      <td>object</td>\n",
       "      <td>9240</td>\n",
       "      <td>['7927b2df-8bba-4d29-b9a2-b6e0beafe620'\\n '2a2...</td>\n",
       "      <td>0</td>\n",
       "      <td>0.00</td>\n",
       "    </tr>\n",
       "    <tr>\n",
       "      <th>Lead Number</th>\n",
       "      <td>int64</td>\n",
       "      <td>9240</td>\n",
       "      <td>[660737 660728 660727 ... 579545 579538 579533]</td>\n",
       "      <td>0</td>\n",
       "      <td>0.00</td>\n",
       "    </tr>\n",
       "    <tr>\n",
       "      <th>Lead Origin</th>\n",
       "      <td>object</td>\n",
       "      <td>5</td>\n",
       "      <td>['API' 'Landing Page Submission' 'Lead Add For...</td>\n",
       "      <td>0</td>\n",
       "      <td>0.00</td>\n",
       "    </tr>\n",
       "    <tr>\n",
       "      <th>Lead Source</th>\n",
       "      <td>object</td>\n",
       "      <td>21</td>\n",
       "      <td>['Olark Chat' 'Organic Search' 'Direct Traffic...</td>\n",
       "      <td>36</td>\n",
       "      <td>0.39</td>\n",
       "    </tr>\n",
       "    <tr>\n",
       "      <th>Do Not Email</th>\n",
       "      <td>object</td>\n",
       "      <td>2</td>\n",
       "      <td>['No' 'Yes']</td>\n",
       "      <td>0</td>\n",
       "      <td>0.00</td>\n",
       "    </tr>\n",
       "    <tr>\n",
       "      <th>Do Not Call</th>\n",
       "      <td>object</td>\n",
       "      <td>2</td>\n",
       "      <td>['No' 'Yes']</td>\n",
       "      <td>0</td>\n",
       "      <td>0.00</td>\n",
       "    </tr>\n",
       "    <tr>\n",
       "      <th>Converted</th>\n",
       "      <td>int64</td>\n",
       "      <td>2</td>\n",
       "      <td>[0 1]</td>\n",
       "      <td>0</td>\n",
       "      <td>0.00</td>\n",
       "    </tr>\n",
       "    <tr>\n",
       "      <th>TotalVisits</th>\n",
       "      <td>float64</td>\n",
       "      <td>41</td>\n",
       "      <td>[0.0 5.0 2.0 1.0 4.0 8.0 11.0 6.0 3.0 7.0 13.0...</td>\n",
       "      <td>137</td>\n",
       "      <td>1.48</td>\n",
       "    </tr>\n",
       "    <tr>\n",
       "      <th>Total Time Spent on Website</th>\n",
       "      <td>int64</td>\n",
       "      <td>1731</td>\n",
       "      <td>[0 674 1532 ... 603 483 927]</td>\n",
       "      <td>0</td>\n",
       "      <td>0.00</td>\n",
       "    </tr>\n",
       "    <tr>\n",
       "      <th>Page Views Per Visit</th>\n",
       "      <td>float64</td>\n",
       "      <td>114</td>\n",
       "      <td>[0.0 2.5 2.0 1.0 4.0 8.0 2.67 11.0 5.0 6.0 3.0...</td>\n",
       "      <td>137</td>\n",
       "      <td>1.48</td>\n",
       "    </tr>\n",
       "    <tr>\n",
       "      <th>Last Activity</th>\n",
       "      <td>object</td>\n",
       "      <td>17</td>\n",
       "      <td>['Page Visited on Website' 'Email Opened' 'Unr...</td>\n",
       "      <td>103</td>\n",
       "      <td>1.11</td>\n",
       "    </tr>\n",
       "    <tr>\n",
       "      <th>Country</th>\n",
       "      <td>object</td>\n",
       "      <td>38</td>\n",
       "      <td>[nan 'India' 'Russia' 'Kuwait' 'Oman' 'United ...</td>\n",
       "      <td>2461</td>\n",
       "      <td>26.63</td>\n",
       "    </tr>\n",
       "    <tr>\n",
       "      <th>Specialization</th>\n",
       "      <td>object</td>\n",
       "      <td>19</td>\n",
       "      <td>['Select' 'Business Administration' 'Media and...</td>\n",
       "      <td>1438</td>\n",
       "      <td>15.56</td>\n",
       "    </tr>\n",
       "    <tr>\n",
       "      <th>How did you hear about X Education</th>\n",
       "      <td>object</td>\n",
       "      <td>10</td>\n",
       "      <td>['Select' 'Word Of Mouth' 'Other' nan 'Online ...</td>\n",
       "      <td>2207</td>\n",
       "      <td>23.89</td>\n",
       "    </tr>\n",
       "    <tr>\n",
       "      <th>What is your current occupation</th>\n",
       "      <td>object</td>\n",
       "      <td>6</td>\n",
       "      <td>['Unemployed' 'Student' nan 'Working Professio...</td>\n",
       "      <td>2690</td>\n",
       "      <td>29.11</td>\n",
       "    </tr>\n",
       "    <tr>\n",
       "      <th>What matters most to you in choosing a course</th>\n",
       "      <td>object</td>\n",
       "      <td>3</td>\n",
       "      <td>['Better Career Prospects' nan 'Flexibility &amp; ...</td>\n",
       "      <td>2709</td>\n",
       "      <td>29.32</td>\n",
       "    </tr>\n",
       "    <tr>\n",
       "      <th>Search</th>\n",
       "      <td>object</td>\n",
       "      <td>2</td>\n",
       "      <td>['No' 'Yes']</td>\n",
       "      <td>0</td>\n",
       "      <td>0.00</td>\n",
       "    </tr>\n",
       "    <tr>\n",
       "      <th>Magazine</th>\n",
       "      <td>object</td>\n",
       "      <td>1</td>\n",
       "      <td>['No']</td>\n",
       "      <td>0</td>\n",
       "      <td>0.00</td>\n",
       "    </tr>\n",
       "    <tr>\n",
       "      <th>Newspaper Article</th>\n",
       "      <td>object</td>\n",
       "      <td>2</td>\n",
       "      <td>['No' 'Yes']</td>\n",
       "      <td>0</td>\n",
       "      <td>0.00</td>\n",
       "    </tr>\n",
       "    <tr>\n",
       "      <th>X Education Forums</th>\n",
       "      <td>object</td>\n",
       "      <td>2</td>\n",
       "      <td>['No' 'Yes']</td>\n",
       "      <td>0</td>\n",
       "      <td>0.00</td>\n",
       "    </tr>\n",
       "    <tr>\n",
       "      <th>Newspaper</th>\n",
       "      <td>object</td>\n",
       "      <td>2</td>\n",
       "      <td>['No' 'Yes']</td>\n",
       "      <td>0</td>\n",
       "      <td>0.00</td>\n",
       "    </tr>\n",
       "    <tr>\n",
       "      <th>Digital Advertisement</th>\n",
       "      <td>object</td>\n",
       "      <td>2</td>\n",
       "      <td>['No' 'Yes']</td>\n",
       "      <td>0</td>\n",
       "      <td>0.00</td>\n",
       "    </tr>\n",
       "    <tr>\n",
       "      <th>Through Recommendations</th>\n",
       "      <td>object</td>\n",
       "      <td>2</td>\n",
       "      <td>['No' 'Yes']</td>\n",
       "      <td>0</td>\n",
       "      <td>0.00</td>\n",
       "    </tr>\n",
       "    <tr>\n",
       "      <th>Receive More Updates About Our Courses</th>\n",
       "      <td>object</td>\n",
       "      <td>1</td>\n",
       "      <td>['No']</td>\n",
       "      <td>0</td>\n",
       "      <td>0.00</td>\n",
       "    </tr>\n",
       "    <tr>\n",
       "      <th>Tags</th>\n",
       "      <td>object</td>\n",
       "      <td>26</td>\n",
       "      <td>['Interested in other courses' 'Ringing'\\n 'Wi...</td>\n",
       "      <td>3353</td>\n",
       "      <td>36.29</td>\n",
       "    </tr>\n",
       "    <tr>\n",
       "      <th>Lead Quality</th>\n",
       "      <td>object</td>\n",
       "      <td>5</td>\n",
       "      <td>['Low in Relevance' nan 'Might be' 'Not Sure' ...</td>\n",
       "      <td>4767</td>\n",
       "      <td>51.59</td>\n",
       "    </tr>\n",
       "    <tr>\n",
       "      <th>Update me on Supply Chain Content</th>\n",
       "      <td>object</td>\n",
       "      <td>1</td>\n",
       "      <td>['No']</td>\n",
       "      <td>0</td>\n",
       "      <td>0.00</td>\n",
       "    </tr>\n",
       "    <tr>\n",
       "      <th>Get updates on DM Content</th>\n",
       "      <td>object</td>\n",
       "      <td>1</td>\n",
       "      <td>['No']</td>\n",
       "      <td>0</td>\n",
       "      <td>0.00</td>\n",
       "    </tr>\n",
       "    <tr>\n",
       "      <th>Lead Profile</th>\n",
       "      <td>object</td>\n",
       "      <td>6</td>\n",
       "      <td>['Select' 'Potential Lead' nan 'Other Leads' '...</td>\n",
       "      <td>2709</td>\n",
       "      <td>29.32</td>\n",
       "    </tr>\n",
       "    <tr>\n",
       "      <th>City</th>\n",
       "      <td>object</td>\n",
       "      <td>7</td>\n",
       "      <td>['Select' 'Mumbai' nan 'Thane &amp; Outskirts' 'Ot...</td>\n",
       "      <td>1420</td>\n",
       "      <td>15.37</td>\n",
       "    </tr>\n",
       "    <tr>\n",
       "      <th>Asymmetrique Activity Index</th>\n",
       "      <td>object</td>\n",
       "      <td>3</td>\n",
       "      <td>['02.Medium' '01.High' '03.Low' nan]</td>\n",
       "      <td>4218</td>\n",
       "      <td>45.65</td>\n",
       "    </tr>\n",
       "    <tr>\n",
       "      <th>Asymmetrique Profile Index</th>\n",
       "      <td>object</td>\n",
       "      <td>3</td>\n",
       "      <td>['02.Medium' '01.High' '03.Low' nan]</td>\n",
       "      <td>4218</td>\n",
       "      <td>45.65</td>\n",
       "    </tr>\n",
       "    <tr>\n",
       "      <th>Asymmetrique Activity Score</th>\n",
       "      <td>float64</td>\n",
       "      <td>12</td>\n",
       "      <td>[15.0 14.0 13.0 17.0 16.0 11.0 12.0 10.0 9.0 8...</td>\n",
       "      <td>4218</td>\n",
       "      <td>45.65</td>\n",
       "    </tr>\n",
       "    <tr>\n",
       "      <th>Asymmetrique Profile Score</th>\n",
       "      <td>float64</td>\n",
       "      <td>10</td>\n",
       "      <td>[15.0 20.0 17.0 18.0 14.0 16.0 13.0 19.0 12.0 ...</td>\n",
       "      <td>4218</td>\n",
       "      <td>45.65</td>\n",
       "    </tr>\n",
       "    <tr>\n",
       "      <th>I agree to pay the amount through cheque</th>\n",
       "      <td>object</td>\n",
       "      <td>1</td>\n",
       "      <td>['No']</td>\n",
       "      <td>0</td>\n",
       "      <td>0.00</td>\n",
       "    </tr>\n",
       "    <tr>\n",
       "      <th>A free copy of Mastering The Interview</th>\n",
       "      <td>object</td>\n",
       "      <td>2</td>\n",
       "      <td>['No' 'Yes']</td>\n",
       "      <td>0</td>\n",
       "      <td>0.00</td>\n",
       "    </tr>\n",
       "    <tr>\n",
       "      <th>Last Notable Activity</th>\n",
       "      <td>object</td>\n",
       "      <td>16</td>\n",
       "      <td>['Modified' 'Email Opened' 'Page Visited on We...</td>\n",
       "      <td>0</td>\n",
       "      <td>0.00</td>\n",
       "    </tr>\n",
       "  </tbody>\n",
       "</table>\n",
       "</div>"
      ],
      "text/plain": [
       "                                              Data Type  No of Levels  \\\n",
       "Prospect ID                                      object          9240   \n",
       "Lead Number                                       int64          9240   \n",
       "Lead Origin                                      object             5   \n",
       "Lead Source                                      object            21   \n",
       "Do Not Email                                     object             2   \n",
       "Do Not Call                                      object             2   \n",
       "Converted                                         int64             2   \n",
       "TotalVisits                                     float64            41   \n",
       "Total Time Spent on Website                       int64          1731   \n",
       "Page Views Per Visit                            float64           114   \n",
       "Last Activity                                    object            17   \n",
       "Country                                          object            38   \n",
       "Specialization                                   object            19   \n",
       "How did you hear about X Education               object            10   \n",
       "What is your current occupation                  object             6   \n",
       "What matters most to you in choosing a course    object             3   \n",
       "Search                                           object             2   \n",
       "Magazine                                         object             1   \n",
       "Newspaper Article                                object             2   \n",
       "X Education Forums                               object             2   \n",
       "Newspaper                                        object             2   \n",
       "Digital Advertisement                            object             2   \n",
       "Through Recommendations                          object             2   \n",
       "Receive More Updates About Our Courses           object             1   \n",
       "Tags                                             object            26   \n",
       "Lead Quality                                     object             5   \n",
       "Update me on Supply Chain Content                object             1   \n",
       "Get updates on DM Content                        object             1   \n",
       "Lead Profile                                     object             6   \n",
       "City                                             object             7   \n",
       "Asymmetrique Activity Index                      object             3   \n",
       "Asymmetrique Profile Index                       object             3   \n",
       "Asymmetrique Activity Score                     float64            12   \n",
       "Asymmetrique Profile Score                      float64            10   \n",
       "I agree to pay the amount through cheque         object             1   \n",
       "A free copy of Mastering The Interview           object             2   \n",
       "Last Notable Activity                            object            16   \n",
       "\n",
       "                                                                                          Levels  \\\n",
       "Prospect ID                                    ['7927b2df-8bba-4d29-b9a2-b6e0beafe620'\\n '2a2...   \n",
       "Lead Number                                      [660737 660728 660727 ... 579545 579538 579533]   \n",
       "Lead Origin                                    ['API' 'Landing Page Submission' 'Lead Add For...   \n",
       "Lead Source                                    ['Olark Chat' 'Organic Search' 'Direct Traffic...   \n",
       "Do Not Email                                                                        ['No' 'Yes']   \n",
       "Do Not Call                                                                         ['No' 'Yes']   \n",
       "Converted                                                                                  [0 1]   \n",
       "TotalVisits                                    [0.0 5.0 2.0 1.0 4.0 8.0 11.0 6.0 3.0 7.0 13.0...   \n",
       "Total Time Spent on Website                                         [0 674 1532 ... 603 483 927]   \n",
       "Page Views Per Visit                           [0.0 2.5 2.0 1.0 4.0 8.0 2.67 11.0 5.0 6.0 3.0...   \n",
       "Last Activity                                  ['Page Visited on Website' 'Email Opened' 'Unr...   \n",
       "Country                                        [nan 'India' 'Russia' 'Kuwait' 'Oman' 'United ...   \n",
       "Specialization                                 ['Select' 'Business Administration' 'Media and...   \n",
       "How did you hear about X Education             ['Select' 'Word Of Mouth' 'Other' nan 'Online ...   \n",
       "What is your current occupation                ['Unemployed' 'Student' nan 'Working Professio...   \n",
       "What matters most to you in choosing a course  ['Better Career Prospects' nan 'Flexibility & ...   \n",
       "Search                                                                              ['No' 'Yes']   \n",
       "Magazine                                                                                  ['No']   \n",
       "Newspaper Article                                                                   ['No' 'Yes']   \n",
       "X Education Forums                                                                  ['No' 'Yes']   \n",
       "Newspaper                                                                           ['No' 'Yes']   \n",
       "Digital Advertisement                                                               ['No' 'Yes']   \n",
       "Through Recommendations                                                             ['No' 'Yes']   \n",
       "Receive More Updates About Our Courses                                                    ['No']   \n",
       "Tags                                           ['Interested in other courses' 'Ringing'\\n 'Wi...   \n",
       "Lead Quality                                   ['Low in Relevance' nan 'Might be' 'Not Sure' ...   \n",
       "Update me on Supply Chain Content                                                         ['No']   \n",
       "Get updates on DM Content                                                                 ['No']   \n",
       "Lead Profile                                   ['Select' 'Potential Lead' nan 'Other Leads' '...   \n",
       "City                                           ['Select' 'Mumbai' nan 'Thane & Outskirts' 'Ot...   \n",
       "Asymmetrique Activity Index                                 ['02.Medium' '01.High' '03.Low' nan]   \n",
       "Asymmetrique Profile Index                                  ['02.Medium' '01.High' '03.Low' nan]   \n",
       "Asymmetrique Activity Score                    [15.0 14.0 13.0 17.0 16.0 11.0 12.0 10.0 9.0 8...   \n",
       "Asymmetrique Profile Score                     [15.0 20.0 17.0 18.0 14.0 16.0 13.0 19.0 12.0 ...   \n",
       "I agree to pay the amount through cheque                                                  ['No']   \n",
       "A free copy of Mastering The Interview                                              ['No' 'Yes']   \n",
       "Last Notable Activity                          ['Modified' 'Email Opened' 'Page Visited on We...   \n",
       "\n",
       "                                                NaN   NaN%  \n",
       "Prospect ID                                       0   0.00  \n",
       "Lead Number                                       0   0.00  \n",
       "Lead Origin                                       0   0.00  \n",
       "Lead Source                                      36   0.39  \n",
       "Do Not Email                                      0   0.00  \n",
       "Do Not Call                                       0   0.00  \n",
       "Converted                                         0   0.00  \n",
       "TotalVisits                                     137   1.48  \n",
       "Total Time Spent on Website                       0   0.00  \n",
       "Page Views Per Visit                            137   1.48  \n",
       "Last Activity                                   103   1.11  \n",
       "Country                                        2461  26.63  \n",
       "Specialization                                 1438  15.56  \n",
       "How did you hear about X Education             2207  23.89  \n",
       "What is your current occupation                2690  29.11  \n",
       "What matters most to you in choosing a course  2709  29.32  \n",
       "Search                                            0   0.00  \n",
       "Magazine                                          0   0.00  \n",
       "Newspaper Article                                 0   0.00  \n",
       "X Education Forums                                0   0.00  \n",
       "Newspaper                                         0   0.00  \n",
       "Digital Advertisement                             0   0.00  \n",
       "Through Recommendations                           0   0.00  \n",
       "Receive More Updates About Our Courses            0   0.00  \n",
       "Tags                                           3353  36.29  \n",
       "Lead Quality                                   4767  51.59  \n",
       "Update me on Supply Chain Content                 0   0.00  \n",
       "Get updates on DM Content                         0   0.00  \n",
       "Lead Profile                                   2709  29.32  \n",
       "City                                           1420  15.37  \n",
       "Asymmetrique Activity Index                    4218  45.65  \n",
       "Asymmetrique Profile Index                     4218  45.65  \n",
       "Asymmetrique Activity Score                    4218  45.65  \n",
       "Asymmetrique Profile Score                     4218  45.65  \n",
       "I agree to pay the amount through cheque          0   0.00  \n",
       "A free copy of Mastering The Interview            0   0.00  \n",
       "Last Notable Activity                             0   0.00  "
      ]
     },
     "execution_count": 4,
     "metadata": {},
     "output_type": "execute_result"
    }
   ],
   "source": [
    "def inspect_data(data):\n",
    "    return pd.DataFrame({\"Data Type\":data.dtypes,\"No of Levels\":data.apply(lambda x: x.nunique(),axis=0), \"Levels\":data.apply(lambda x:str(x.unique()),axis=0), \"NaN\":round(data.isnull().sum(),1),\"NaN%\":round(100*(data.isnull().sum()/len(data.index)), 2)})\n",
    "inspect_data(leads)"
   ]
  },
  {
   "cell_type": "code",
   "execution_count": 5,
   "metadata": {},
   "outputs": [],
   "source": [
    "## removing the attributes which are not important to the data\n",
    "leads = leads.drop(['Prospect ID','Lead Number'],axis=1)"
   ]
  },
  {
   "cell_type": "code",
   "execution_count": 6,
   "metadata": {},
   "outputs": [],
   "source": [
    "cols=leads.columns\n",
    "\n",
    "for i in cols:\n",
    "    if((100*(leads[i].isnull().sum()/len(leads.index))) >= 30):\n",
    "        leads.drop(i, 1, inplace = True)"
   ]
  },
  {
   "cell_type": "code",
   "execution_count": 7,
   "metadata": {},
   "outputs": [
    {
     "data": {
      "text/plain": [
       "Lead Origin                                       0.00\n",
       "Lead Source                                       0.39\n",
       "Do Not Email                                      0.00\n",
       "Do Not Call                                       0.00\n",
       "Converted                                         0.00\n",
       "TotalVisits                                       1.48\n",
       "Total Time Spent on Website                       0.00\n",
       "Page Views Per Visit                              1.48\n",
       "Last Activity                                     1.11\n",
       "Country                                          26.63\n",
       "Specialization                                   15.56\n",
       "How did you hear about X Education               23.89\n",
       "What is your current occupation                  29.11\n",
       "What matters most to you in choosing a course    29.32\n",
       "Search                                            0.00\n",
       "Magazine                                          0.00\n",
       "Newspaper Article                                 0.00\n",
       "X Education Forums                                0.00\n",
       "Newspaper                                         0.00\n",
       "Digital Advertisement                             0.00\n",
       "Through Recommendations                           0.00\n",
       "Receive More Updates About Our Courses            0.00\n",
       "Update me on Supply Chain Content                 0.00\n",
       "Get updates on DM Content                         0.00\n",
       "Lead Profile                                     29.32\n",
       "City                                             15.37\n",
       "I agree to pay the amount through cheque          0.00\n",
       "A free copy of Mastering The Interview            0.00\n",
       "Last Notable Activity                             0.00\n",
       "dtype: float64"
      ]
     },
     "execution_count": 7,
     "metadata": {},
     "output_type": "execute_result"
    }
   ],
   "source": [
    "round(100*(leads.isnull().sum()/len(leads.index)), 2)"
   ]
  },
  {
   "cell_type": "code",
   "execution_count": 8,
   "metadata": {},
   "outputs": [
    {
     "data": {
      "text/html": [
       "<div>\n",
       "<style scoped>\n",
       "    .dataframe tbody tr th:only-of-type {\n",
       "        vertical-align: middle;\n",
       "    }\n",
       "\n",
       "    .dataframe tbody tr th {\n",
       "        vertical-align: top;\n",
       "    }\n",
       "\n",
       "    .dataframe thead th {\n",
       "        text-align: right;\n",
       "    }\n",
       "</style>\n",
       "<table border=\"1\" class=\"dataframe\">\n",
       "  <thead>\n",
       "    <tr style=\"text-align: right;\">\n",
       "      <th></th>\n",
       "      <th>Data Type</th>\n",
       "      <th>No of Levels</th>\n",
       "      <th>Levels</th>\n",
       "      <th>NaN</th>\n",
       "      <th>NaN%</th>\n",
       "    </tr>\n",
       "  </thead>\n",
       "  <tbody>\n",
       "    <tr>\n",
       "      <th>Lead Origin</th>\n",
       "      <td>object</td>\n",
       "      <td>5</td>\n",
       "      <td>['API' 'Landing Page Submission' 'Lead Add For...</td>\n",
       "      <td>0</td>\n",
       "      <td>0.00</td>\n",
       "    </tr>\n",
       "    <tr>\n",
       "      <th>Lead Source</th>\n",
       "      <td>object</td>\n",
       "      <td>21</td>\n",
       "      <td>['Olark Chat' 'Organic Search' 'Direct Traffic...</td>\n",
       "      <td>36</td>\n",
       "      <td>0.39</td>\n",
       "    </tr>\n",
       "    <tr>\n",
       "      <th>Do Not Email</th>\n",
       "      <td>object</td>\n",
       "      <td>2</td>\n",
       "      <td>['No' 'Yes']</td>\n",
       "      <td>0</td>\n",
       "      <td>0.00</td>\n",
       "    </tr>\n",
       "    <tr>\n",
       "      <th>Do Not Call</th>\n",
       "      <td>object</td>\n",
       "      <td>2</td>\n",
       "      <td>['No' 'Yes']</td>\n",
       "      <td>0</td>\n",
       "      <td>0.00</td>\n",
       "    </tr>\n",
       "    <tr>\n",
       "      <th>Converted</th>\n",
       "      <td>int64</td>\n",
       "      <td>2</td>\n",
       "      <td>[0 1]</td>\n",
       "      <td>0</td>\n",
       "      <td>0.00</td>\n",
       "    </tr>\n",
       "    <tr>\n",
       "      <th>TotalVisits</th>\n",
       "      <td>float64</td>\n",
       "      <td>41</td>\n",
       "      <td>[0.0 5.0 2.0 1.0 4.0 8.0 11.0 6.0 3.0 7.0 13.0...</td>\n",
       "      <td>137</td>\n",
       "      <td>1.48</td>\n",
       "    </tr>\n",
       "    <tr>\n",
       "      <th>Total Time Spent on Website</th>\n",
       "      <td>int64</td>\n",
       "      <td>1731</td>\n",
       "      <td>[0 674 1532 ... 603 483 927]</td>\n",
       "      <td>0</td>\n",
       "      <td>0.00</td>\n",
       "    </tr>\n",
       "    <tr>\n",
       "      <th>Page Views Per Visit</th>\n",
       "      <td>float64</td>\n",
       "      <td>114</td>\n",
       "      <td>[0.0 2.5 2.0 1.0 4.0 8.0 2.67 11.0 5.0 6.0 3.0...</td>\n",
       "      <td>137</td>\n",
       "      <td>1.48</td>\n",
       "    </tr>\n",
       "    <tr>\n",
       "      <th>Last Activity</th>\n",
       "      <td>object</td>\n",
       "      <td>17</td>\n",
       "      <td>['Page Visited on Website' 'Email Opened' 'Unr...</td>\n",
       "      <td>103</td>\n",
       "      <td>1.11</td>\n",
       "    </tr>\n",
       "    <tr>\n",
       "      <th>Country</th>\n",
       "      <td>object</td>\n",
       "      <td>38</td>\n",
       "      <td>[nan 'India' 'Russia' 'Kuwait' 'Oman' 'United ...</td>\n",
       "      <td>2461</td>\n",
       "      <td>26.63</td>\n",
       "    </tr>\n",
       "    <tr>\n",
       "      <th>Specialization</th>\n",
       "      <td>object</td>\n",
       "      <td>19</td>\n",
       "      <td>['Select' 'Business Administration' 'Media and...</td>\n",
       "      <td>1438</td>\n",
       "      <td>15.56</td>\n",
       "    </tr>\n",
       "    <tr>\n",
       "      <th>How did you hear about X Education</th>\n",
       "      <td>object</td>\n",
       "      <td>10</td>\n",
       "      <td>['Select' 'Word Of Mouth' 'Other' nan 'Online ...</td>\n",
       "      <td>2207</td>\n",
       "      <td>23.89</td>\n",
       "    </tr>\n",
       "    <tr>\n",
       "      <th>What is your current occupation</th>\n",
       "      <td>object</td>\n",
       "      <td>6</td>\n",
       "      <td>['Unemployed' 'Student' nan 'Working Professio...</td>\n",
       "      <td>2690</td>\n",
       "      <td>29.11</td>\n",
       "    </tr>\n",
       "    <tr>\n",
       "      <th>What matters most to you in choosing a course</th>\n",
       "      <td>object</td>\n",
       "      <td>3</td>\n",
       "      <td>['Better Career Prospects' nan 'Flexibility &amp; ...</td>\n",
       "      <td>2709</td>\n",
       "      <td>29.32</td>\n",
       "    </tr>\n",
       "    <tr>\n",
       "      <th>Search</th>\n",
       "      <td>object</td>\n",
       "      <td>2</td>\n",
       "      <td>['No' 'Yes']</td>\n",
       "      <td>0</td>\n",
       "      <td>0.00</td>\n",
       "    </tr>\n",
       "    <tr>\n",
       "      <th>Magazine</th>\n",
       "      <td>object</td>\n",
       "      <td>1</td>\n",
       "      <td>['No']</td>\n",
       "      <td>0</td>\n",
       "      <td>0.00</td>\n",
       "    </tr>\n",
       "    <tr>\n",
       "      <th>Newspaper Article</th>\n",
       "      <td>object</td>\n",
       "      <td>2</td>\n",
       "      <td>['No' 'Yes']</td>\n",
       "      <td>0</td>\n",
       "      <td>0.00</td>\n",
       "    </tr>\n",
       "    <tr>\n",
       "      <th>X Education Forums</th>\n",
       "      <td>object</td>\n",
       "      <td>2</td>\n",
       "      <td>['No' 'Yes']</td>\n",
       "      <td>0</td>\n",
       "      <td>0.00</td>\n",
       "    </tr>\n",
       "    <tr>\n",
       "      <th>Newspaper</th>\n",
       "      <td>object</td>\n",
       "      <td>2</td>\n",
       "      <td>['No' 'Yes']</td>\n",
       "      <td>0</td>\n",
       "      <td>0.00</td>\n",
       "    </tr>\n",
       "    <tr>\n",
       "      <th>Digital Advertisement</th>\n",
       "      <td>object</td>\n",
       "      <td>2</td>\n",
       "      <td>['No' 'Yes']</td>\n",
       "      <td>0</td>\n",
       "      <td>0.00</td>\n",
       "    </tr>\n",
       "    <tr>\n",
       "      <th>Through Recommendations</th>\n",
       "      <td>object</td>\n",
       "      <td>2</td>\n",
       "      <td>['No' 'Yes']</td>\n",
       "      <td>0</td>\n",
       "      <td>0.00</td>\n",
       "    </tr>\n",
       "    <tr>\n",
       "      <th>Receive More Updates About Our Courses</th>\n",
       "      <td>object</td>\n",
       "      <td>1</td>\n",
       "      <td>['No']</td>\n",
       "      <td>0</td>\n",
       "      <td>0.00</td>\n",
       "    </tr>\n",
       "    <tr>\n",
       "      <th>Update me on Supply Chain Content</th>\n",
       "      <td>object</td>\n",
       "      <td>1</td>\n",
       "      <td>['No']</td>\n",
       "      <td>0</td>\n",
       "      <td>0.00</td>\n",
       "    </tr>\n",
       "    <tr>\n",
       "      <th>Get updates on DM Content</th>\n",
       "      <td>object</td>\n",
       "      <td>1</td>\n",
       "      <td>['No']</td>\n",
       "      <td>0</td>\n",
       "      <td>0.00</td>\n",
       "    </tr>\n",
       "    <tr>\n",
       "      <th>Lead Profile</th>\n",
       "      <td>object</td>\n",
       "      <td>6</td>\n",
       "      <td>['Select' 'Potential Lead' nan 'Other Leads' '...</td>\n",
       "      <td>2709</td>\n",
       "      <td>29.32</td>\n",
       "    </tr>\n",
       "    <tr>\n",
       "      <th>City</th>\n",
       "      <td>object</td>\n",
       "      <td>7</td>\n",
       "      <td>['Select' 'Mumbai' nan 'Thane &amp; Outskirts' 'Ot...</td>\n",
       "      <td>1420</td>\n",
       "      <td>15.37</td>\n",
       "    </tr>\n",
       "    <tr>\n",
       "      <th>I agree to pay the amount through cheque</th>\n",
       "      <td>object</td>\n",
       "      <td>1</td>\n",
       "      <td>['No']</td>\n",
       "      <td>0</td>\n",
       "      <td>0.00</td>\n",
       "    </tr>\n",
       "    <tr>\n",
       "      <th>A free copy of Mastering The Interview</th>\n",
       "      <td>object</td>\n",
       "      <td>2</td>\n",
       "      <td>['No' 'Yes']</td>\n",
       "      <td>0</td>\n",
       "      <td>0.00</td>\n",
       "    </tr>\n",
       "    <tr>\n",
       "      <th>Last Notable Activity</th>\n",
       "      <td>object</td>\n",
       "      <td>16</td>\n",
       "      <td>['Modified' 'Email Opened' 'Page Visited on We...</td>\n",
       "      <td>0</td>\n",
       "      <td>0.00</td>\n",
       "    </tr>\n",
       "  </tbody>\n",
       "</table>\n",
       "</div>"
      ],
      "text/plain": [
       "                                              Data Type  No of Levels  \\\n",
       "Lead Origin                                      object             5   \n",
       "Lead Source                                      object            21   \n",
       "Do Not Email                                     object             2   \n",
       "Do Not Call                                      object             2   \n",
       "Converted                                         int64             2   \n",
       "TotalVisits                                     float64            41   \n",
       "Total Time Spent on Website                       int64          1731   \n",
       "Page Views Per Visit                            float64           114   \n",
       "Last Activity                                    object            17   \n",
       "Country                                          object            38   \n",
       "Specialization                                   object            19   \n",
       "How did you hear about X Education               object            10   \n",
       "What is your current occupation                  object             6   \n",
       "What matters most to you in choosing a course    object             3   \n",
       "Search                                           object             2   \n",
       "Magazine                                         object             1   \n",
       "Newspaper Article                                object             2   \n",
       "X Education Forums                               object             2   \n",
       "Newspaper                                        object             2   \n",
       "Digital Advertisement                            object             2   \n",
       "Through Recommendations                          object             2   \n",
       "Receive More Updates About Our Courses           object             1   \n",
       "Update me on Supply Chain Content                object             1   \n",
       "Get updates on DM Content                        object             1   \n",
       "Lead Profile                                     object             6   \n",
       "City                                             object             7   \n",
       "I agree to pay the amount through cheque         object             1   \n",
       "A free copy of Mastering The Interview           object             2   \n",
       "Last Notable Activity                            object            16   \n",
       "\n",
       "                                                                                          Levels  \\\n",
       "Lead Origin                                    ['API' 'Landing Page Submission' 'Lead Add For...   \n",
       "Lead Source                                    ['Olark Chat' 'Organic Search' 'Direct Traffic...   \n",
       "Do Not Email                                                                        ['No' 'Yes']   \n",
       "Do Not Call                                                                         ['No' 'Yes']   \n",
       "Converted                                                                                  [0 1]   \n",
       "TotalVisits                                    [0.0 5.0 2.0 1.0 4.0 8.0 11.0 6.0 3.0 7.0 13.0...   \n",
       "Total Time Spent on Website                                         [0 674 1532 ... 603 483 927]   \n",
       "Page Views Per Visit                           [0.0 2.5 2.0 1.0 4.0 8.0 2.67 11.0 5.0 6.0 3.0...   \n",
       "Last Activity                                  ['Page Visited on Website' 'Email Opened' 'Unr...   \n",
       "Country                                        [nan 'India' 'Russia' 'Kuwait' 'Oman' 'United ...   \n",
       "Specialization                                 ['Select' 'Business Administration' 'Media and...   \n",
       "How did you hear about X Education             ['Select' 'Word Of Mouth' 'Other' nan 'Online ...   \n",
       "What is your current occupation                ['Unemployed' 'Student' nan 'Working Professio...   \n",
       "What matters most to you in choosing a course  ['Better Career Prospects' nan 'Flexibility & ...   \n",
       "Search                                                                              ['No' 'Yes']   \n",
       "Magazine                                                                                  ['No']   \n",
       "Newspaper Article                                                                   ['No' 'Yes']   \n",
       "X Education Forums                                                                  ['No' 'Yes']   \n",
       "Newspaper                                                                           ['No' 'Yes']   \n",
       "Digital Advertisement                                                               ['No' 'Yes']   \n",
       "Through Recommendations                                                             ['No' 'Yes']   \n",
       "Receive More Updates About Our Courses                                                    ['No']   \n",
       "Update me on Supply Chain Content                                                         ['No']   \n",
       "Get updates on DM Content                                                                 ['No']   \n",
       "Lead Profile                                   ['Select' 'Potential Lead' nan 'Other Leads' '...   \n",
       "City                                           ['Select' 'Mumbai' nan 'Thane & Outskirts' 'Ot...   \n",
       "I agree to pay the amount through cheque                                                  ['No']   \n",
       "A free copy of Mastering The Interview                                              ['No' 'Yes']   \n",
       "Last Notable Activity                          ['Modified' 'Email Opened' 'Page Visited on We...   \n",
       "\n",
       "                                                NaN   NaN%  \n",
       "Lead Origin                                       0   0.00  \n",
       "Lead Source                                      36   0.39  \n",
       "Do Not Email                                      0   0.00  \n",
       "Do Not Call                                       0   0.00  \n",
       "Converted                                         0   0.00  \n",
       "TotalVisits                                     137   1.48  \n",
       "Total Time Spent on Website                       0   0.00  \n",
       "Page Views Per Visit                            137   1.48  \n",
       "Last Activity                                   103   1.11  \n",
       "Country                                        2461  26.63  \n",
       "Specialization                                 1438  15.56  \n",
       "How did you hear about X Education             2207  23.89  \n",
       "What is your current occupation                2690  29.11  \n",
       "What matters most to you in choosing a course  2709  29.32  \n",
       "Search                                            0   0.00  \n",
       "Magazine                                          0   0.00  \n",
       "Newspaper Article                                 0   0.00  \n",
       "X Education Forums                                0   0.00  \n",
       "Newspaper                                         0   0.00  \n",
       "Digital Advertisement                             0   0.00  \n",
       "Through Recommendations                           0   0.00  \n",
       "Receive More Updates About Our Courses            0   0.00  \n",
       "Update me on Supply Chain Content                 0   0.00  \n",
       "Get updates on DM Content                         0   0.00  \n",
       "Lead Profile                                   2709  29.32  \n",
       "City                                           1420  15.37  \n",
       "I agree to pay the amount through cheque          0   0.00  \n",
       "A free copy of Mastering The Interview            0   0.00  \n",
       "Last Notable Activity                             0   0.00  "
      ]
     },
     "execution_count": 8,
     "metadata": {},
     "output_type": "execute_result"
    }
   ],
   "source": [
    "inspect_data(leads)"
   ]
  },
  {
   "cell_type": "code",
   "execution_count": 9,
   "metadata": {},
   "outputs": [],
   "source": [
    "## removing the attributes which are having only 1 level i.e constant\n",
    "leads = leads.drop(['Magazine','Receive More Updates About Our Courses','Update me on Supply Chain Content','Get updates on DM Content','I agree to pay the amount through cheque'],axis=1)"
   ]
  },
  {
   "cell_type": "code",
   "execution_count": 10,
   "metadata": {},
   "outputs": [
    {
     "data": {
      "text/plain": [
       "(9240, 24)"
      ]
     },
     "execution_count": 10,
     "metadata": {},
     "output_type": "execute_result"
    }
   ],
   "source": [
    "leads.shape"
   ]
  },
  {
   "cell_type": "code",
   "execution_count": 11,
   "metadata": {},
   "outputs": [
    {
     "data": {
      "text/plain": [
       "India                   6492\n",
       "United States             69\n",
       "United Arab Emirates      53\n",
       "Singapore                 24\n",
       "Saudi Arabia              21\n",
       "United Kingdom            15\n",
       "Australia                 13\n",
       "Qatar                     10\n",
       "Hong Kong                  7\n",
       "Bahrain                    7\n",
       "Oman                       6\n",
       "France                     6\n",
       "unknown                    5\n",
       "Germany                    4\n",
       "Nigeria                    4\n",
       "South Africa               4\n",
       "Canada                     4\n",
       "Kuwait                     4\n",
       "Sweden                     3\n",
       "China                      2\n",
       "Uganda                     2\n",
       "Italy                      2\n",
       "Asia/Pacific Region        2\n",
       "Ghana                      2\n",
       "Philippines                2\n",
       "Bangladesh                 2\n",
       "Belgium                    2\n",
       "Netherlands                2\n",
       "Russia                     1\n",
       "Liberia                    1\n",
       "Denmark                    1\n",
       "Malaysia                   1\n",
       "Indonesia                  1\n",
       "Sri Lanka                  1\n",
       "Vietnam                    1\n",
       "Kenya                      1\n",
       "Tanzania                   1\n",
       "Switzerland                1\n",
       "Name: Country, dtype: int64"
      ]
     },
     "execution_count": 11,
     "metadata": {},
     "output_type": "execute_result"
    }
   ],
   "source": [
    "\n",
    "leads['Country'].value_counts()"
   ]
  },
  {
   "cell_type": "code",
   "execution_count": 12,
   "metadata": {},
   "outputs": [],
   "source": [
    "leads['Country'] = leads['Country'].replace(np.nan,'India')\n",
    "leads['Country'] = leads['Country'].replace('unknown','India')"
   ]
  },
  {
   "cell_type": "code",
   "execution_count": 13,
   "metadata": {},
   "outputs": [
    {
     "data": {
      "text/plain": [
       "India                   8958\n",
       "United States             69\n",
       "United Arab Emirates      53\n",
       "Singapore                 24\n",
       "Saudi Arabia              21\n",
       "United Kingdom            15\n",
       "Australia                 13\n",
       "Qatar                     10\n",
       "Bahrain                    7\n",
       "Hong Kong                  7\n",
       "France                     6\n",
       "Oman                       6\n",
       "South Africa               4\n",
       "Nigeria                    4\n",
       "Germany                    4\n",
       "Canada                     4\n",
       "Kuwait                     4\n",
       "Sweden                     3\n",
       "China                      2\n",
       "Italy                      2\n",
       "Uganda                     2\n",
       "Asia/Pacific Region        2\n",
       "Ghana                      2\n",
       "Philippines                2\n",
       "Bangladesh                 2\n",
       "Belgium                    2\n",
       "Netherlands                2\n",
       "Russia                     1\n",
       "Liberia                    1\n",
       "Denmark                    1\n",
       "Malaysia                   1\n",
       "Indonesia                  1\n",
       "Sri Lanka                  1\n",
       "Vietnam                    1\n",
       "Kenya                      1\n",
       "Tanzania                   1\n",
       "Switzerland                1\n",
       "Name: Country, dtype: int64"
      ]
     },
     "execution_count": 13,
     "metadata": {},
     "output_type": "execute_result"
    }
   ],
   "source": [
    "leads['Country'].value_counts()"
   ]
  },
  {
   "cell_type": "code",
   "execution_count": 14,
   "metadata": {},
   "outputs": [],
   "source": [
    "leads = leads.drop(['Country'],axis=1)"
   ]
  },
  {
   "cell_type": "code",
   "execution_count": 15,
   "metadata": {},
   "outputs": [
    {
     "data": {
      "text/plain": [
       "No     8506\n",
       "Yes     734\n",
       "Name: Do Not Email, dtype: int64"
      ]
     },
     "execution_count": 15,
     "metadata": {},
     "output_type": "execute_result"
    }
   ],
   "source": [
    "leads['Do Not Email'].value_counts()"
   ]
  },
  {
   "cell_type": "code",
   "execution_count": 16,
   "metadata": {},
   "outputs": [
    {
     "data": {
      "image/png": "[encoded data removed]",
      "text/plain": [
       "<Figure size 1080x360 with 1 Axes>"
      ]
     },
     "metadata": {
      "needs_background": "light"
     },
     "output_type": "display_data"
    }
   ],
   "source": [
    "plt.figure(figsize=(15,5))\n",
    "s1=sns.countplot(leads['Do Not Email'], hue=leads.Converted)\n",
    "s1.set_xticklabels(s1.get_xticklabels(),rotation=90)\n",
    "plt.show()"
   ]
  },
  {
   "cell_type": "code",
   "execution_count": 17,
   "metadata": {},
   "outputs": [
    {
     "data": {
      "text/plain": [
       "No     9238\n",
       "Yes       2\n",
       "Name: Do Not Call, dtype: int64"
      ]
     },
     "execution_count": 17,
     "metadata": {},
     "output_type": "execute_result"
    }
   ],
   "source": [
    "leads['Do Not Call'].value_counts()"
   ]
  },
  {
   "cell_type": "code",
   "execution_count": 18,
   "metadata": {},
   "outputs": [],
   "source": [
    "leads= leads.drop(['Do Not Call'],axis=1)"
   ]
  },
  {
   "cell_type": "code",
   "execution_count": 19,
   "metadata": {},
   "outputs": [
    {
     "data": {
      "text/plain": [
       "Email Opened                    3437\n",
       "SMS Sent                        2745\n",
       "Olark Chat Conversation          973\n",
       "Page Visited on Website          640\n",
       "Converted to Lead                428\n",
       "Email Bounced                    326\n",
       "Email Link Clicked               267\n",
       "Form Submitted on Website        116\n",
       "Unreachable                       93\n",
       "Unsubscribed                      61\n",
       "Had a Phone Conversation          30\n",
       "Approached upfront                 9\n",
       "View in browser link Clicked       6\n",
       "Email Marked Spam                  2\n",
       "Email Received                     2\n",
       "Visited Booth in Tradeshow         1\n",
       "Resubscribed to emails             1\n",
       "Name: Last Activity, dtype: int64"
      ]
     },
     "execution_count": 19,
     "metadata": {},
     "output_type": "execute_result"
    }
   ],
   "source": [
    "leads['Last Activity'].value_counts()"
   ]
  },
  {
   "cell_type": "code",
   "execution_count": 20,
   "metadata": {},
   "outputs": [],
   "source": [
    "leads['Last Activity'] = leads['Last Activity'].replace(np.nan,'Email Unchecked')"
   ]
  },
  {
   "cell_type": "code",
   "execution_count": 21,
   "metadata": {},
   "outputs": [
    {
     "data": {
      "text/plain": [
       "Email Opened                    3437\n",
       "SMS Sent                        2745\n",
       "Olark Chat Conversation          973\n",
       "Page Visited on Website          640\n",
       "Converted to Lead                428\n",
       "Email Bounced                    326\n",
       "Email Link Clicked               267\n",
       "Form Submitted on Website        116\n",
       "Email Unchecked                  103\n",
       "Unreachable                       93\n",
       "Unsubscribed                      61\n",
       "Had a Phone Conversation          30\n",
       "Approached upfront                 9\n",
       "View in browser link Clicked       6\n",
       "Email Marked Spam                  2\n",
       "Email Received                     2\n",
       "Visited Booth in Tradeshow         1\n",
       "Resubscribed to emails             1\n",
       "Name: Last Activity, dtype: int64"
      ]
     },
     "execution_count": 21,
     "metadata": {},
     "output_type": "execute_result"
    }
   ],
   "source": [
    "leads['Last Activity'].value_counts()"
   ]
  },
  {
   "cell_type": "code",
   "execution_count": 22,
   "metadata": {},
   "outputs": [
    {
     "data": {
      "text/plain": [
       "Select                               1942\n",
       "Finance Management                    976\n",
       "Human Resource Management             848\n",
       "Marketing Management                  838\n",
       "Operations Management                 503\n",
       "Business Administration               403\n",
       "IT Projects Management                366\n",
       "Supply Chain Management               349\n",
       "Banking, Investment And Insurance     338\n",
       "Travel and Tourism                    203\n",
       "Media and Advertising                 203\n",
       "International Business                178\n",
       "Healthcare Management                 159\n",
       "Hospitality Management                114\n",
       "E-COMMERCE                            112\n",
       "Retail Management                     100\n",
       "Rural and Agribusiness                 73\n",
       "E-Business                             57\n",
       "Services Excellence                    40\n",
       "Name: Specialization, dtype: int64"
      ]
     },
     "execution_count": 22,
     "metadata": {},
     "output_type": "execute_result"
    }
   ],
   "source": [
    "leads['Specialization'].value_counts()"
   ]
  },
  {
   "cell_type": "code",
   "execution_count": 23,
   "metadata": {},
   "outputs": [],
   "source": [
    "leads['Specialization'] = leads['Specialization'].replace(['Finance Management','Human Resource Management','Marketing Management','Operations Management','Business Administration','IT Projects Management','Supply Chain Management','Healthcare Management','Hospitality Management','Retail Management'],'Management Services')"
   ]
  },
  {
   "cell_type": "code",
   "execution_count": 24,
   "metadata": {},
   "outputs": [
    {
     "data": {
      "text/plain": [
       "Management Services                  4656\n",
       "Select                               1942\n",
       "NaN                                  1438\n",
       "Banking, Investment And Insurance     338\n",
       "Travel and Tourism                    203\n",
       "Media and Advertising                 203\n",
       "International Business                178\n",
       "E-COMMERCE                            112\n",
       "Rural and Agribusiness                 73\n",
       "E-Business                             57\n",
       "Services Excellence                    40\n",
       "Name: Specialization, dtype: int64"
      ]
     },
     "execution_count": 24,
     "metadata": {},
     "output_type": "execute_result"
    }
   ],
   "source": [
    "leads['Specialization'].value_counts(dropna=False)"
   ]
  },
  {
   "cell_type": "code",
   "execution_count": 25,
   "metadata": {},
   "outputs": [],
   "source": [
    "leads['Specialization'] = leads['Specialization'].replace(np.nan, 'Not Specified')\n"
   ]
  },
  {
   "cell_type": "code",
   "execution_count": 26,
   "metadata": {},
   "outputs": [
    {
     "data": {
      "image/png": "[encoded data removed]",
      "text/plain": [
       "<Figure size 1080x360 with 1 Axes>"
      ]
     },
     "metadata": {
      "needs_background": "light"
     },
     "output_type": "display_data"
    }
   ],
   "source": [
    "plt.figure(figsize=(15,5))\n",
    "s1=sns.countplot(leads['Specialization'], hue=leads.Converted)\n",
    "s1.set_xticklabels(s1.get_xticklabels(),rotation=90)\n",
    "plt.show()"
   ]
  },
  {
   "cell_type": "code",
   "execution_count": 27,
   "metadata": {},
   "outputs": [
    {
     "data": {
      "text/plain": [
       "Select                   5043\n",
       "NaN                      2207\n",
       "Online Search             808\n",
       "Word Of Mouth             348\n",
       "Student of SomeSchool     310\n",
       "Other                     186\n",
       "Multiple Sources          152\n",
       "Advertisements             70\n",
       "Social Media               67\n",
       "Email                      26\n",
       "SMS                        23\n",
       "Name: How did you hear about X Education, dtype: int64"
      ]
     },
     "execution_count": 27,
     "metadata": {},
     "output_type": "execute_result"
    }
   ],
   "source": [
    "leads['How did you hear about X Education'].value_counts(dropna=False)"
   ]
  },
  {
   "cell_type": "code",
   "execution_count": 28,
   "metadata": {},
   "outputs": [],
   "source": [
    "leads['How did you hear about X Education']= leads['How did you hear about X Education'].replace(np.nan, 'Other')"
   ]
  },
  {
   "cell_type": "code",
   "execution_count": 29,
   "metadata": {},
   "outputs": [
    {
     "data": {
      "image/png": "[encoded data removed]",
      "text/plain": [
       "<Figure size 1080x360 with 1 Axes>"
      ]
     },
     "metadata": {
      "needs_background": "light"
     },
     "output_type": "display_data"
    }
   ],
   "source": [
    "plt.figure(figsize=(15,5))\n",
    "s1=sns.countplot(leads['How did you hear about X Education'], hue=leads.Converted)\n",
    "s1.set_xticklabels(s1.get_xticklabels(),rotation=90)\n",
    "plt.show()"
   ]
  },
  {
   "cell_type": "code",
   "execution_count": 30,
   "metadata": {},
   "outputs": [
    {
     "data": {
      "text/plain": [
       "Unemployed              5600\n",
       "NaN                     2690\n",
       "Working Professional     706\n",
       "Student                  210\n",
       "Other                     16\n",
       "Housewife                 10\n",
       "Businessman                8\n",
       "Name: What is your current occupation, dtype: int64"
      ]
     },
     "execution_count": 30,
     "metadata": {},
     "output_type": "execute_result"
    }
   ],
   "source": [
    "leads['What is your current occupation'].value_counts(dropna=False)"
   ]
  },
  {
   "cell_type": "code",
   "execution_count": 31,
   "metadata": {},
   "outputs": [],
   "source": [
    "leads['What is your current occupation']= leads['What is your current occupation'].replace(np.nan, 'Unemployed')"
   ]
  },
  {
   "cell_type": "code",
   "execution_count": 32,
   "metadata": {},
   "outputs": [
    {
     "data": {
      "image/png": "[encoded data removed]",
      "text/plain": [
       "<Figure size 1080x360 with 1 Axes>"
      ]
     },
     "metadata": {
      "needs_background": "light"
     },
     "output_type": "display_data"
    }
   ],
   "source": [
    "plt.figure(figsize=(15,5))\n",
    "s1=sns.countplot(leads['What is your current occupation'], hue=leads.Converted)\n",
    "s1.set_xticklabels(s1.get_xticklabels(),rotation=90)\n",
    "plt.show()"
   ]
  },
  {
   "cell_type": "code",
   "execution_count": 33,
   "metadata": {},
   "outputs": [
    {
     "data": {
      "text/plain": [
       "Better Career Prospects      6528\n",
       "Flexibility & Convenience       2\n",
       "Other                           1\n",
       "Name: What matters most to you in choosing a course, dtype: int64"
      ]
     },
     "execution_count": 33,
     "metadata": {},
     "output_type": "execute_result"
    }
   ],
   "source": [
    "leads['What matters most to you in choosing a course'].value_counts()"
   ]
  },
  {
   "cell_type": "code",
   "execution_count": 34,
   "metadata": {},
   "outputs": [],
   "source": [
    "leads= leads.drop(['What matters most to you in choosing a course'],axis=1)"
   ]
  },
  {
   "cell_type": "code",
   "execution_count": 35,
   "metadata": {},
   "outputs": [
    {
     "data": {
      "text/plain": [
       "No     9226\n",
       "Yes      14\n",
       "Name: Search, dtype: int64"
      ]
     },
     "execution_count": 35,
     "metadata": {},
     "output_type": "execute_result"
    }
   ],
   "source": [
    "leads['Search'].value_counts()"
   ]
  },
  {
   "cell_type": "code",
   "execution_count": 36,
   "metadata": {},
   "outputs": [
    {
     "data": {
      "image/png": "[encoded data removed]",
      "text/plain": [
       "<Figure size 1080x360 with 1 Axes>"
      ]
     },
     "metadata": {
      "needs_background": "light"
     },
     "output_type": "display_data"
    }
   ],
   "source": [
    "plt.figure(figsize=(15,5))\n",
    "s1=sns.countplot(leads['Search'], hue=leads.Converted)\n",
    "s1.set_xticklabels(s1.get_xticklabels(),rotation=90)\n",
    "plt.show()"
   ]
  },
  {
   "cell_type": "code",
   "execution_count": 37,
   "metadata": {},
   "outputs": [],
   "source": [
    "leads= leads.drop(['Search'],axis=1)"
   ]
  },
  {
   "cell_type": "code",
   "execution_count": 38,
   "metadata": {},
   "outputs": [
    {
     "data": {
      "text/plain": [
       "No     9238\n",
       "Yes       2\n",
       "Name: Newspaper Article, dtype: int64"
      ]
     },
     "execution_count": 38,
     "metadata": {},
     "output_type": "execute_result"
    }
   ],
   "source": [
    "leads['Newspaper Article'].value_counts()"
   ]
  },
  {
   "cell_type": "code",
   "execution_count": 39,
   "metadata": {},
   "outputs": [],
   "source": [
    "leads= leads.drop(['Newspaper Article'],axis=1)"
   ]
  },
  {
   "cell_type": "code",
   "execution_count": 40,
   "metadata": {},
   "outputs": [
    {
     "data": {
      "text/plain": [
       "No     9239\n",
       "Yes       1\n",
       "Name: X Education Forums, dtype: int64"
      ]
     },
     "execution_count": 40,
     "metadata": {},
     "output_type": "execute_result"
    }
   ],
   "source": [
    "leads['X Education Forums'].value_counts()"
   ]
  },
  {
   "cell_type": "code",
   "execution_count": 41,
   "metadata": {},
   "outputs": [],
   "source": [
    "leads= leads.drop(['X Education Forums'],axis=1)"
   ]
  },
  {
   "cell_type": "code",
   "execution_count": 42,
   "metadata": {},
   "outputs": [
    {
     "data": {
      "text/plain": [
       "No     9239\n",
       "Yes       1\n",
       "Name: Newspaper, dtype: int64"
      ]
     },
     "execution_count": 42,
     "metadata": {},
     "output_type": "execute_result"
    }
   ],
   "source": [
    "leads['Newspaper'].value_counts()"
   ]
  },
  {
   "cell_type": "code",
   "execution_count": 43,
   "metadata": {},
   "outputs": [],
   "source": [
    "leads= leads.drop(['Newspaper'],axis=1)"
   ]
  },
  {
   "cell_type": "code",
   "execution_count": 44,
   "metadata": {},
   "outputs": [
    {
     "data": {
      "text/plain": [
       "No     9236\n",
       "Yes       4\n",
       "Name: Digital Advertisement, dtype: int64"
      ]
     },
     "execution_count": 44,
     "metadata": {},
     "output_type": "execute_result"
    }
   ],
   "source": [
    "leads['Digital Advertisement'].value_counts()"
   ]
  },
  {
   "cell_type": "code",
   "execution_count": 45,
   "metadata": {},
   "outputs": [],
   "source": [
    "leads= leads.drop(['Digital Advertisement'],axis=1)"
   ]
  },
  {
   "cell_type": "code",
   "execution_count": 46,
   "metadata": {},
   "outputs": [
    {
     "data": {
      "text/plain": [
       "No     9233\n",
       "Yes       7\n",
       "Name: Through Recommendations, dtype: int64"
      ]
     },
     "execution_count": 46,
     "metadata": {},
     "output_type": "execute_result"
    }
   ],
   "source": [
    "leads['Through Recommendations'].value_counts()"
   ]
  },
  {
   "cell_type": "code",
   "execution_count": 47,
   "metadata": {},
   "outputs": [],
   "source": [
    "leads= leads.drop(['Through Recommendations'],axis=1)"
   ]
  },
  {
   "cell_type": "code",
   "execution_count": 48,
   "metadata": {},
   "outputs": [
    {
     "data": {
      "text/plain": [
       "Select                         4146\n",
       "NaN                            2709\n",
       "Potential Lead                 1613\n",
       "Other Leads                     487\n",
       "Student of SomeSchool           241\n",
       "Lateral Student                  24\n",
       "Dual Specialization Student      20\n",
       "Name: Lead Profile, dtype: int64"
      ]
     },
     "execution_count": 48,
     "metadata": {},
     "output_type": "execute_result"
    }
   ],
   "source": [
    "leads['Lead Profile'].value_counts(dropna=False)"
   ]
  },
  {
   "cell_type": "code",
   "execution_count": 49,
   "metadata": {},
   "outputs": [],
   "source": [
    "leads['Lead Profile']= leads['Lead Profile'].replace(np.nan, 'Other Leads')"
   ]
  },
  {
   "cell_type": "code",
   "execution_count": 50,
   "metadata": {},
   "outputs": [
    {
     "data": {
      "text/plain": [
       "Mumbai                         3222\n",
       "Select                         2249\n",
       "NaN                            1420\n",
       "Thane & Outskirts               752\n",
       "Other Cities                    686\n",
       "Other Cities of Maharashtra     457\n",
       "Other Metro Cities              380\n",
       "Tier II Cities                   74\n",
       "Name: City, dtype: int64"
      ]
     },
     "execution_count": 50,
     "metadata": {},
     "output_type": "execute_result"
    }
   ],
   "source": [
    "leads['City'].value_counts(dropna=False)"
   ]
  },
  {
   "cell_type": "code",
   "execution_count": 51,
   "metadata": {},
   "outputs": [],
   "source": [
    "leads['City']= leads['City'].replace(np.nan, 'Other Cities')"
   ]
  },
  {
   "cell_type": "code",
   "execution_count": 52,
   "metadata": {},
   "outputs": [
    {
     "data": {
      "text/plain": [
       "No     6352\n",
       "Yes    2888\n",
       "Name: A free copy of Mastering The Interview, dtype: int64"
      ]
     },
     "execution_count": 52,
     "metadata": {},
     "output_type": "execute_result"
    }
   ],
   "source": [
    "leads['A free copy of Mastering The Interview'].value_counts(dropna=False)"
   ]
  },
  {
   "cell_type": "code",
   "execution_count": 53,
   "metadata": {},
   "outputs": [
    {
     "data": {
      "text/plain": [
       "Modified                        3407\n",
       "Email Opened                    2827\n",
       "SMS Sent                        2172\n",
       "Page Visited on Website          318\n",
       "Olark Chat Conversation          183\n",
       "Email Link Clicked               173\n",
       "Email Bounced                     60\n",
       "Unsubscribed                      47\n",
       "Unreachable                       32\n",
       "Had a Phone Conversation          14\n",
       "Email Marked Spam                  2\n",
       "View in browser link Clicked       1\n",
       "Resubscribed to emails             1\n",
       "Email Received                     1\n",
       "Approached upfront                 1\n",
       "Form Submitted on Website          1\n",
       "Name: Last Notable Activity, dtype: int64"
      ]
     },
     "execution_count": 53,
     "metadata": {},
     "output_type": "execute_result"
    }
   ],
   "source": [
    "leads['Last Notable Activity'].value_counts(dropna=False)"
   ]
  },
  {
   "cell_type": "code",
   "execution_count": 54,
   "metadata": {},
   "outputs": [
    {
     "data": {
      "text/plain": [
       "Google               2868\n",
       "Direct Traffic       2543\n",
       "Olark Chat           1755\n",
       "Organic Search       1154\n",
       "Reference             534\n",
       "Welingak Website      142\n",
       "Referral Sites        125\n",
       "Facebook               55\n",
       "NaN                    36\n",
       "bing                    6\n",
       "google                  5\n",
       "Click2call              4\n",
       "Press_Release           2\n",
       "Live Chat               2\n",
       "Social Media            2\n",
       "welearnblog_Home        1\n",
       "Pay per Click Ads       1\n",
       "blog                    1\n",
       "youtubechannel          1\n",
       "testone                 1\n",
       "WeLearn                 1\n",
       "NC_EDM                  1\n",
       "Name: Lead Source, dtype: int64"
      ]
     },
     "execution_count": 54,
     "metadata": {},
     "output_type": "execute_result"
    }
   ],
   "source": [
    "leads['Lead Source'].value_counts(dropna=False)"
   ]
  },
  {
   "cell_type": "code",
   "execution_count": 55,
   "metadata": {},
   "outputs": [],
   "source": [
    "leads['Lead Source'] = leads['Lead Source'].replace(np.nan,'Social Media')\n",
    "leads['Lead Source'] = leads['Lead Source'].replace('google','Google')\n",
    "leads['Lead Source'] = leads['Lead Source'].replace('Facebook','Social Media')"
   ]
  },
  {
   "cell_type": "code",
   "execution_count": 56,
   "metadata": {},
   "outputs": [
    {
     "data": {
      "text/html": [
       "<div>\n",
       "<style scoped>\n",
       "    .dataframe tbody tr th:only-of-type {\n",
       "        vertical-align: middle;\n",
       "    }\n",
       "\n",
       "    .dataframe tbody tr th {\n",
       "        vertical-align: top;\n",
       "    }\n",
       "\n",
       "    .dataframe thead th {\n",
       "        text-align: right;\n",
       "    }\n",
       "</style>\n",
       "<table border=\"1\" class=\"dataframe\">\n",
       "  <thead>\n",
       "    <tr style=\"text-align: right;\">\n",
       "      <th></th>\n",
       "      <th>Data Type</th>\n",
       "      <th>No of Levels</th>\n",
       "      <th>Levels</th>\n",
       "      <th>NaN</th>\n",
       "      <th>NaN%</th>\n",
       "    </tr>\n",
       "  </thead>\n",
       "  <tbody>\n",
       "    <tr>\n",
       "      <th>Lead Origin</th>\n",
       "      <td>object</td>\n",
       "      <td>5</td>\n",
       "      <td>['API' 'Landing Page Submission' 'Lead Add For...</td>\n",
       "      <td>0</td>\n",
       "      <td>0.00</td>\n",
       "    </tr>\n",
       "    <tr>\n",
       "      <th>Lead Source</th>\n",
       "      <td>object</td>\n",
       "      <td>19</td>\n",
       "      <td>['Olark Chat' 'Organic Search' 'Direct Traffic...</td>\n",
       "      <td>0</td>\n",
       "      <td>0.00</td>\n",
       "    </tr>\n",
       "    <tr>\n",
       "      <th>Do Not Email</th>\n",
       "      <td>object</td>\n",
       "      <td>2</td>\n",
       "      <td>['No' 'Yes']</td>\n",
       "      <td>0</td>\n",
       "      <td>0.00</td>\n",
       "    </tr>\n",
       "    <tr>\n",
       "      <th>Converted</th>\n",
       "      <td>int64</td>\n",
       "      <td>2</td>\n",
       "      <td>[0 1]</td>\n",
       "      <td>0</td>\n",
       "      <td>0.00</td>\n",
       "    </tr>\n",
       "    <tr>\n",
       "      <th>TotalVisits</th>\n",
       "      <td>float64</td>\n",
       "      <td>41</td>\n",
       "      <td>[0.0 5.0 2.0 1.0 4.0 8.0 11.0 6.0 3.0 7.0 13.0...</td>\n",
       "      <td>137</td>\n",
       "      <td>1.48</td>\n",
       "    </tr>\n",
       "    <tr>\n",
       "      <th>Total Time Spent on Website</th>\n",
       "      <td>int64</td>\n",
       "      <td>1731</td>\n",
       "      <td>[0 674 1532 ... 603 483 927]</td>\n",
       "      <td>0</td>\n",
       "      <td>0.00</td>\n",
       "    </tr>\n",
       "    <tr>\n",
       "      <th>Page Views Per Visit</th>\n",
       "      <td>float64</td>\n",
       "      <td>114</td>\n",
       "      <td>[0.0 2.5 2.0 1.0 4.0 8.0 2.67 11.0 5.0 6.0 3.0...</td>\n",
       "      <td>137</td>\n",
       "      <td>1.48</td>\n",
       "    </tr>\n",
       "    <tr>\n",
       "      <th>Last Activity</th>\n",
       "      <td>object</td>\n",
       "      <td>18</td>\n",
       "      <td>['Page Visited on Website' 'Email Opened' 'Unr...</td>\n",
       "      <td>0</td>\n",
       "      <td>0.00</td>\n",
       "    </tr>\n",
       "    <tr>\n",
       "      <th>Specialization</th>\n",
       "      <td>object</td>\n",
       "      <td>11</td>\n",
       "      <td>['Select' 'Management Services' 'Media and Adv...</td>\n",
       "      <td>0</td>\n",
       "      <td>0.00</td>\n",
       "    </tr>\n",
       "    <tr>\n",
       "      <th>How did you hear about X Education</th>\n",
       "      <td>object</td>\n",
       "      <td>10</td>\n",
       "      <td>['Select' 'Word Of Mouth' 'Other' 'Online Sear...</td>\n",
       "      <td>0</td>\n",
       "      <td>0.00</td>\n",
       "    </tr>\n",
       "    <tr>\n",
       "      <th>What is your current occupation</th>\n",
       "      <td>object</td>\n",
       "      <td>6</td>\n",
       "      <td>['Unemployed' 'Student' 'Working Professional'...</td>\n",
       "      <td>0</td>\n",
       "      <td>0.00</td>\n",
       "    </tr>\n",
       "    <tr>\n",
       "      <th>Lead Profile</th>\n",
       "      <td>object</td>\n",
       "      <td>6</td>\n",
       "      <td>['Select' 'Potential Lead' 'Other Leads' 'Late...</td>\n",
       "      <td>0</td>\n",
       "      <td>0.00</td>\n",
       "    </tr>\n",
       "    <tr>\n",
       "      <th>City</th>\n",
       "      <td>object</td>\n",
       "      <td>7</td>\n",
       "      <td>['Select' 'Mumbai' 'Other Cities' 'Thane &amp; Out...</td>\n",
       "      <td>0</td>\n",
       "      <td>0.00</td>\n",
       "    </tr>\n",
       "    <tr>\n",
       "      <th>A free copy of Mastering The Interview</th>\n",
       "      <td>object</td>\n",
       "      <td>2</td>\n",
       "      <td>['No' 'Yes']</td>\n",
       "      <td>0</td>\n",
       "      <td>0.00</td>\n",
       "    </tr>\n",
       "    <tr>\n",
       "      <th>Last Notable Activity</th>\n",
       "      <td>object</td>\n",
       "      <td>16</td>\n",
       "      <td>['Modified' 'Email Opened' 'Page Visited on We...</td>\n",
       "      <td>0</td>\n",
       "      <td>0.00</td>\n",
       "    </tr>\n",
       "  </tbody>\n",
       "</table>\n",
       "</div>"
      ],
      "text/plain": [
       "                                       Data Type  No of Levels  \\\n",
       "Lead Origin                               object             5   \n",
       "Lead Source                               object            19   \n",
       "Do Not Email                              object             2   \n",
       "Converted                                  int64             2   \n",
       "TotalVisits                              float64            41   \n",
       "Total Time Spent on Website                int64          1731   \n",
       "Page Views Per Visit                     float64           114   \n",
       "Last Activity                             object            18   \n",
       "Specialization                            object            11   \n",
       "How did you hear about X Education        object            10   \n",
       "What is your current occupation           object             6   \n",
       "Lead Profile                              object             6   \n",
       "City                                      object             7   \n",
       "A free copy of Mastering The Interview    object             2   \n",
       "Last Notable Activity                     object            16   \n",
       "\n",
       "                                                                                   Levels  \\\n",
       "Lead Origin                             ['API' 'Landing Page Submission' 'Lead Add For...   \n",
       "Lead Source                             ['Olark Chat' 'Organic Search' 'Direct Traffic...   \n",
       "Do Not Email                                                                 ['No' 'Yes']   \n",
       "Converted                                                                           [0 1]   \n",
       "TotalVisits                             [0.0 5.0 2.0 1.0 4.0 8.0 11.0 6.0 3.0 7.0 13.0...   \n",
       "Total Time Spent on Website                                  [0 674 1532 ... 603 483 927]   \n",
       "Page Views Per Visit                    [0.0 2.5 2.0 1.0 4.0 8.0 2.67 11.0 5.0 6.0 3.0...   \n",
       "Last Activity                           ['Page Visited on Website' 'Email Opened' 'Unr...   \n",
       "Specialization                          ['Select' 'Management Services' 'Media and Adv...   \n",
       "How did you hear about X Education      ['Select' 'Word Of Mouth' 'Other' 'Online Sear...   \n",
       "What is your current occupation         ['Unemployed' 'Student' 'Working Professional'...   \n",
       "Lead Profile                            ['Select' 'Potential Lead' 'Other Leads' 'Late...   \n",
       "City                                    ['Select' 'Mumbai' 'Other Cities' 'Thane & Out...   \n",
       "A free copy of Mastering The Interview                                       ['No' 'Yes']   \n",
       "Last Notable Activity                   ['Modified' 'Email Opened' 'Page Visited on We...   \n",
       "\n",
       "                                        NaN  NaN%  \n",
       "Lead Origin                               0  0.00  \n",
       "Lead Source                               0  0.00  \n",
       "Do Not Email                              0  0.00  \n",
       "Converted                                 0  0.00  \n",
       "TotalVisits                             137  1.48  \n",
       "Total Time Spent on Website               0  0.00  \n",
       "Page Views Per Visit                    137  1.48  \n",
       "Last Activity                             0  0.00  \n",
       "Specialization                            0  0.00  \n",
       "How did you hear about X Education        0  0.00  \n",
       "What is your current occupation           0  0.00  \n",
       "Lead Profile                              0  0.00  \n",
       "City                                      0  0.00  \n",
       "A free copy of Mastering The Interview    0  0.00  \n",
       "Last Notable Activity                     0  0.00  "
      ]
     },
     "execution_count": 56,
     "metadata": {},
     "output_type": "execute_result"
    }
   ],
   "source": [
    "inspect_data(leads)"
   ]
  },
  {
   "cell_type": "code",
   "execution_count": 57,
   "metadata": {},
   "outputs": [
    {
     "data": {
      "image/png": "[encoded data removed]",
      "text/plain": [
       "<Figure size 432x288 with 1 Axes>"
      ]
     },
     "metadata": {
      "needs_background": "light"
     },
     "output_type": "display_data"
    }
   ],
   "source": [
    "plt.figure(figsize=(6,4))\n",
    "sns.boxplot(y=leads['TotalVisits'])\n",
    "plt.show()"
   ]
  },
  {
   "cell_type": "code",
   "execution_count": 58,
   "metadata": {},
   "outputs": [
    {
     "data": {
      "text/plain": [
       "count    9103.000000\n",
       "mean        3.445238\n",
       "std         4.854853\n",
       "min         0.000000\n",
       "5%          0.000000\n",
       "25%         1.000000\n",
       "50%         3.000000\n",
       "75%         5.000000\n",
       "90%         7.000000\n",
       "95%        10.000000\n",
       "99%        17.000000\n",
       "max       251.000000\n",
       "Name: TotalVisits, dtype: float64"
      ]
     },
     "execution_count": 58,
     "metadata": {},
     "output_type": "execute_result"
    }
   ],
   "source": [
    "leads['TotalVisits'].describe(percentiles=[0.05,.25, .5, .75, .90, .95, .99])"
   ]
  },
  {
   "cell_type": "code",
   "execution_count": 59,
   "metadata": {},
   "outputs": [
    {
     "data": {
      "image/png": "[encoded data removed]",
      "text/plain": [
       "<Figure size 432x288 with 1 Axes>"
      ]
     },
     "metadata": {
      "needs_background": "light"
     },
     "output_type": "display_data"
    }
   ],
   "source": [
    "Q3 = leads.TotalVisits.quantile(0.99)\n",
    "leads = leads[(leads.TotalVisits <= Q3)]\n",
    "Q1 = leads.TotalVisits.quantile(0.01)\n",
    "leads = leads[(leads.TotalVisits >= Q1)]\n",
    "sns.boxplot(y=leads['TotalVisits'])\n",
    "plt.show()"
   ]
  },
  {
   "cell_type": "code",
   "execution_count": 60,
   "metadata": {},
   "outputs": [
    {
     "data": {
      "text/plain": [
       "(9020, 15)"
      ]
     },
     "execution_count": 60,
     "metadata": {},
     "output_type": "execute_result"
    }
   ],
   "source": [
    "leads.shape"
   ]
  },
  {
   "cell_type": "code",
   "execution_count": 61,
   "metadata": {},
   "outputs": [
    {
     "data": {
      "text/plain": [
       "count    9020.000000\n",
       "mean      479.759534\n",
       "std       544.688157\n",
       "min         0.000000\n",
       "5%          0.000000\n",
       "25%         7.000000\n",
       "50%       243.000000\n",
       "75%       915.250000\n",
       "90%      1371.000000\n",
       "95%      1554.050000\n",
       "99%      1836.620000\n",
       "max      2272.000000\n",
       "Name: Total Time Spent on Website, dtype: float64"
      ]
     },
     "execution_count": 61,
     "metadata": {},
     "output_type": "execute_result"
    }
   ],
   "source": [
    "leads['Total Time Spent on Website'].describe(percentiles=[0.05,.25, .5, .75, .90, .95, .99])"
   ]
  },
  {
   "cell_type": "code",
   "execution_count": 62,
   "metadata": {},
   "outputs": [
    {
     "data": {
      "image/png": "[encoded data removed]",
      "text/plain": [
       "<Figure size 432x288 with 1 Axes>"
      ]
     },
     "metadata": {
      "needs_background": "light"
     },
     "output_type": "display_data"
    }
   ],
   "source": [
    "Q3 = leads.TotalVisits.quantile(0.99)\n",
    "leads = leads[(leads.TotalVisits <= Q3)]\n",
    "Q1 = leads.TotalVisits.quantile(0.01)\n",
    "leads = leads[(leads.TotalVisits >= Q1)]\n",
    "sns.boxplot(y=leads['Total Time Spent on Website'])\n",
    "plt.show()"
   ]
  },
  {
   "cell_type": "code",
   "execution_count": 63,
   "metadata": {},
   "outputs": [
    {
     "data": {
      "text/plain": [
       "count    8929.000000\n",
       "mean        2.303194\n",
       "std         1.993860\n",
       "min         0.000000\n",
       "5%          0.000000\n",
       "25%         1.000000\n",
       "50%         2.000000\n",
       "75%         3.000000\n",
       "90%         5.000000\n",
       "95%         6.000000\n",
       "99%         9.000000\n",
       "max        13.000000\n",
       "Name: Page Views Per Visit, dtype: float64"
      ]
     },
     "execution_count": 63,
     "metadata": {},
     "output_type": "execute_result"
    }
   ],
   "source": [
    "leads['Page Views Per Visit'].describe(percentiles=[0.05,.25, .5, .75, .90, .95, .99])"
   ]
  },
  {
   "cell_type": "code",
   "execution_count": 64,
   "metadata": {},
   "outputs": [
    {
     "data": {
      "image/png": "[encoded data removed]",
      "text/plain": [
       "<Figure size 432x288 with 1 Axes>"
      ]
     },
     "metadata": {
      "needs_background": "light"
     },
     "output_type": "display_data"
    }
   ],
   "source": [
    "Q3 = leads.TotalVisits.quantile(0.99)\n",
    "leads = leads[(leads.TotalVisits <= Q3)]\n",
    "Q1 = leads.TotalVisits.quantile(0.01)\n",
    "leads = leads[(leads.TotalVisits >= Q1)]\n",
    "sns.boxplot(y=leads['Page Views Per Visit'])\n",
    "plt.show()"
   ]
  },
  {
   "cell_type": "code",
   "execution_count": 65,
   "metadata": {},
   "outputs": [
    {
     "data": {
      "text/plain": [
       "(8881, 15)"
      ]
     },
     "execution_count": 65,
     "metadata": {},
     "output_type": "execute_result"
    }
   ],
   "source": [
    "leads.shape"
   ]
  },
  {
   "cell_type": "code",
   "execution_count": 66,
   "metadata": {},
   "outputs": [
    {
     "data": {
      "text/plain": [
       "Index(['Lead Origin', 'Lead Source', 'Do Not Email', 'Converted',\n",
       "       'TotalVisits', 'Total Time Spent on Website', 'Page Views Per Visit',\n",
       "       'Last Activity', 'Specialization', 'How did you hear about X Education',\n",
       "       'What is your current occupation', 'Lead Profile', 'City',\n",
       "       'A free copy of Mastering The Interview', 'Last Notable Activity'],\n",
       "      dtype='object')"
      ]
     },
     "execution_count": 66,
     "metadata": {},
     "output_type": "execute_result"
    }
   ],
   "source": [
    "leads.columns"
   ]
  },
  {
   "cell_type": "code",
   "execution_count": 67,
   "metadata": {},
   "outputs": [
    {
     "data": {
      "text/plain": [
       "Index(['A free copy of Mastering The Interview', 'City', 'Converted',\n",
       "       'Do Not Email', 'How did you hear about X Education', 'Last Activity',\n",
       "       'Last Notable Activity', 'Lead Origin', 'Lead Profile', 'Lead Source',\n",
       "       'Specialization', 'What is your current occupation'],\n",
       "      dtype='object')"
      ]
     },
     "execution_count": 67,
     "metadata": {},
     "output_type": "execute_result"
    }
   ],
   "source": [
    "num_cols= ['TotalVisits','Total Time Spent on Website','Page Views Per Visit']\n",
    "\n",
    "cat_cols= leads.columns.difference(num_cols)\n",
    "cat_cols"
   ]
  },
  {
   "cell_type": "code",
   "execution_count": 68,
   "metadata": {},
   "outputs": [
    {
     "data": {
      "text/plain": [
       "Lead Origin                               category\n",
       "Lead Source                               category\n",
       "Do Not Email                              category\n",
       "Converted                                 category\n",
       "TotalVisits                                float64\n",
       "Total Time Spent on Website                float64\n",
       "Page Views Per Visit                       float64\n",
       "Last Activity                             category\n",
       "Specialization                            category\n",
       "How did you hear about X Education        category\n",
       "What is your current occupation           category\n",
       "Lead Profile                              category\n",
       "City                                      category\n",
       "A free copy of Mastering The Interview    category\n",
       "Last Notable Activity                     category\n",
       "dtype: object"
      ]
     },
     "execution_count": 68,
     "metadata": {},
     "output_type": "execute_result"
    }
   ],
   "source": [
    "leads[cat_cols] = leads[cat_cols].apply(lambda x: x.astype('category'))\n",
    "leads[num_cols] = leads[num_cols].apply(lambda x: x.astype('float'))\n",
    "leads.dtypes"
   ]
  },
  {
   "cell_type": "code",
   "execution_count": 69,
   "metadata": {},
   "outputs": [],
   "source": [
    "num_data = leads.loc[:,num_cols]\n",
    "cat_data = leads.loc[:,cat_cols]"
   ]
  },
  {
   "cell_type": "code",
   "execution_count": 70,
   "metadata": {},
   "outputs": [],
   "source": [
    "cat_data = pd.get_dummies(cat_data,columns=['A free copy of Mastering The Interview', 'City',\n",
    "       'Do Not Email', 'How did you hear about X Education', 'Last Activity',\n",
    "       'Last Notable Activity', 'Lead Origin', 'Lead Profile', 'Lead Source',\n",
    "       'Specialization', 'What is your current occupation'],drop_first=True)"
   ]
  },
  {
   "cell_type": "code",
   "execution_count": 71,
   "metadata": {},
   "outputs": [],
   "source": [
    "leads = pd.concat([num_data,cat_data],axis=1)"
   ]
  },
  {
   "cell_type": "code",
   "execution_count": 72,
   "metadata": {},
   "outputs": [
    {
     "data": {
      "text/plain": [
       "TotalVisits                                              float64\n",
       "Total Time Spent on Website                              float64\n",
       "Page Views Per Visit                                     float64\n",
       "Converted                                               category\n",
       "A free copy of Mastering The Interview_Yes                 uint8\n",
       "                                                          ...   \n",
       "What is your current occupation_Housewife                  uint8\n",
       "What is your current occupation_Other                      uint8\n",
       "What is your current occupation_Student                    uint8\n",
       "What is your current occupation_Unemployed                 uint8\n",
       "What is your current occupation_Working Professional       uint8\n",
       "Length: 93, dtype: object"
      ]
     },
     "execution_count": 72,
     "metadata": {},
     "output_type": "execute_result"
    }
   ],
   "source": [
    "leads.dtypes"
   ]
  },
  {
   "cell_type": "code",
   "execution_count": 73,
   "metadata": {},
   "outputs": [],
   "source": [
    "x = leads.drop(\"Converted\",axis=1)\n",
    "y = leads[\"Converted\"]"
   ]
  },
  {
   "cell_type": "code",
   "execution_count": 74,
   "metadata": {},
   "outputs": [],
   "source": [
    "x_train, x_validation, y_train, y_validation = train_test_split(x, y, test_size=0.3,random_state=1)"
   ]
  },
  {
   "cell_type": "code",
   "execution_count": 75,
   "metadata": {},
   "outputs": [
    {
     "name": "stdout",
     "output_type": "stream",
     "text": [
      "(6216, 92)\n",
      "(2665, 92)\n",
      "(6216,)\n",
      "(2665,)\n"
     ]
    }
   ],
   "source": [
    "print(x_train.shape)\n",
    "print(x_validation.shape)\n",
    "print(y_train.shape)\n",
    "print(y_validation.shape)\n"
   ]
  },
  {
   "cell_type": "code",
   "execution_count": 76,
   "metadata": {},
   "outputs": [
    {
     "name": "stdout",
     "output_type": "stream",
     "text": [
      "<class 'pandas.core.frame.DataFrame'>\n",
      "Int64Index: 8881 entries, 0 to 9239\n",
      "Data columns (total 92 columns):\n",
      " #   Column                                                    Non-Null Count  Dtype  \n",
      "---  ------                                                    --------------  -----  \n",
      " 0   TotalVisits                                               8881 non-null   float64\n",
      " 1   Total Time Spent on Website                               8881 non-null   float64\n",
      " 2   Page Views Per Visit                                      8881 non-null   float64\n",
      " 3   A free copy of Mastering The Interview_Yes                8881 non-null   uint8  \n",
      " 4   City_Other Cities                                         8881 non-null   uint8  \n",
      " 5   City_Other Cities of Maharashtra                          8881 non-null   uint8  \n",
      " 6   City_Other Metro Cities                                   8881 non-null   uint8  \n",
      " 7   City_Select                                               8881 non-null   uint8  \n",
      " 8   City_Thane & Outskirts                                    8881 non-null   uint8  \n",
      " 9   City_Tier II Cities                                       8881 non-null   uint8  \n",
      " 10  Do Not Email_Yes                                          8881 non-null   uint8  \n",
      " 11  How did you hear about X Education_Email                  8881 non-null   uint8  \n",
      " 12  How did you hear about X Education_Multiple Sources       8881 non-null   uint8  \n",
      " 13  How did you hear about X Education_Online Search          8881 non-null   uint8  \n",
      " 14  How did you hear about X Education_Other                  8881 non-null   uint8  \n",
      " 15  How did you hear about X Education_SMS                    8881 non-null   uint8  \n",
      " 16  How did you hear about X Education_Select                 8881 non-null   uint8  \n",
      " 17  How did you hear about X Education_Social Media           8881 non-null   uint8  \n",
      " 18  How did you hear about X Education_Student of SomeSchool  8881 non-null   uint8  \n",
      " 19  How did you hear about X Education_Word Of Mouth          8881 non-null   uint8  \n",
      " 20  Last Activity_Converted to Lead                           8881 non-null   uint8  \n",
      " 21  Last Activity_Email Bounced                               8881 non-null   uint8  \n",
      " 22  Last Activity_Email Link Clicked                          8881 non-null   uint8  \n",
      " 23  Last Activity_Email Marked Spam                           8881 non-null   uint8  \n",
      " 24  Last Activity_Email Opened                                8881 non-null   uint8  \n",
      " 25  Last Activity_Email Received                              8881 non-null   uint8  \n",
      " 26  Last Activity_Form Submitted on Website                   8881 non-null   uint8  \n",
      " 27  Last Activity_Had a Phone Conversation                    8881 non-null   uint8  \n",
      " 28  Last Activity_Olark Chat Conversation                     8881 non-null   uint8  \n",
      " 29  Last Activity_Page Visited on Website                     8881 non-null   uint8  \n",
      " 30  Last Activity_Resubscribed to emails                      8881 non-null   uint8  \n",
      " 31  Last Activity_SMS Sent                                    8881 non-null   uint8  \n",
      " 32  Last Activity_Unreachable                                 8881 non-null   uint8  \n",
      " 33  Last Activity_Unsubscribed                                8881 non-null   uint8  \n",
      " 34  Last Activity_View in browser link Clicked                8881 non-null   uint8  \n",
      " 35  Last Activity_Visited Booth in Tradeshow                  8881 non-null   uint8  \n",
      " 36  Last Notable Activity_Email Bounced                       8881 non-null   uint8  \n",
      " 37  Last Notable Activity_Email Link Clicked                  8881 non-null   uint8  \n",
      " 38  Last Notable Activity_Email Marked Spam                   8881 non-null   uint8  \n",
      " 39  Last Notable Activity_Email Opened                        8881 non-null   uint8  \n",
      " 40  Last Notable Activity_Email Received                      8881 non-null   uint8  \n",
      " 41  Last Notable Activity_Form Submitted on Website           8881 non-null   uint8  \n",
      " 42  Last Notable Activity_Had a Phone Conversation            8881 non-null   uint8  \n",
      " 43  Last Notable Activity_Modified                            8881 non-null   uint8  \n",
      " 44  Last Notable Activity_Olark Chat Conversation             8881 non-null   uint8  \n",
      " 45  Last Notable Activity_Page Visited on Website             8881 non-null   uint8  \n",
      " 46  Last Notable Activity_Resubscribed to emails              8881 non-null   uint8  \n",
      " 47  Last Notable Activity_SMS Sent                            8881 non-null   uint8  \n",
      " 48  Last Notable Activity_Unreachable                         8881 non-null   uint8  \n",
      " 49  Last Notable Activity_Unsubscribed                        8881 non-null   uint8  \n",
      " 50  Last Notable Activity_View in browser link Clicked        8881 non-null   uint8  \n",
      " 51  Lead Origin_Landing Page Submission                       8881 non-null   uint8  \n",
      " 52  Lead Origin_Lead Add Form                                 8881 non-null   uint8  \n",
      " 53  Lead Origin_Lead Import                                   8881 non-null   uint8  \n",
      " 54  Lead Profile_Lateral Student                              8881 non-null   uint8  \n",
      " 55  Lead Profile_Other Leads                                  8881 non-null   uint8  \n",
      " 56  Lead Profile_Potential Lead                               8881 non-null   uint8  \n",
      " 57  Lead Profile_Select                                       8881 non-null   uint8  \n",
      " 58  Lead Profile_Student of SomeSchool                        8881 non-null   uint8  \n",
      " 59  Lead Source_Direct Traffic                                8881 non-null   uint8  \n",
      " 60  Lead Source_Google                                        8881 non-null   uint8  \n",
      " 61  Lead Source_Live Chat                                     8881 non-null   uint8  \n",
      " 62  Lead Source_NC_EDM                                        8881 non-null   uint8  \n",
      " 63  Lead Source_Olark Chat                                    8881 non-null   uint8  \n",
      " 64  Lead Source_Organic Search                                8881 non-null   uint8  \n",
      " 65  Lead Source_Pay per Click Ads                             8881 non-null   uint8  \n",
      " 66  Lead Source_Press_Release                                 8881 non-null   uint8  \n",
      " 67  Lead Source_Reference                                     8881 non-null   uint8  \n",
      " 68  Lead Source_Referral Sites                                8881 non-null   uint8  \n",
      " 69  Lead Source_Social Media                                  8881 non-null   uint8  \n",
      " 70  Lead Source_WeLearn                                       8881 non-null   uint8  \n",
      " 71  Lead Source_Welingak Website                              8881 non-null   uint8  \n",
      " 72  Lead Source_bing                                          8881 non-null   uint8  \n",
      " 73  Lead Source_blog                                          8881 non-null   uint8  \n",
      " 74  Lead Source_testone                                       8881 non-null   uint8  \n",
      " 75  Lead Source_welearnblog_Home                              8881 non-null   uint8  \n",
      " 76  Lead Source_youtubechannel                                8881 non-null   uint8  \n",
      " 77  Specialization_E-Business                                 8881 non-null   uint8  \n",
      " 78  Specialization_E-COMMERCE                                 8881 non-null   uint8  \n",
      " 79  Specialization_International Business                     8881 non-null   uint8  \n",
      " 80  Specialization_Management Services                        8881 non-null   uint8  \n",
      " 81  Specialization_Media and Advertising                      8881 non-null   uint8  \n",
      " 82  Specialization_Not Specified                              8881 non-null   uint8  \n",
      " 83  Specialization_Rural and Agribusiness                     8881 non-null   uint8  \n",
      " 84  Specialization_Select                                     8881 non-null   uint8  \n",
      " 85  Specialization_Services Excellence                        8881 non-null   uint8  \n",
      " 86  Specialization_Travel and Tourism                         8881 non-null   uint8  \n",
      " 87  What is your current occupation_Housewife                 8881 non-null   uint8  \n",
      " 88  What is your current occupation_Other                     8881 non-null   uint8  \n",
      " 89  What is your current occupation_Student                   8881 non-null   uint8  \n",
      " 90  What is your current occupation_Unemployed                8881 non-null   uint8  \n",
      " 91  What is your current occupation_Working Professional      8881 non-null   uint8  \n",
      "dtypes: float64(3), uint8(89)\n",
      "memory usage: 1.0 MB\n"
     ]
    }
   ],
   "source": [
    "x.info()"
   ]
  },
  {
   "cell_type": "code",
   "execution_count": 77,
   "metadata": {},
   "outputs": [
    {
     "data": {
      "text/html": [
       "<div>\n",
       "<style scoped>\n",
       "    .dataframe tbody tr th:only-of-type {\n",
       "        vertical-align: middle;\n",
       "    }\n",
       "\n",
       "    .dataframe tbody tr th {\n",
       "        vertical-align: top;\n",
       "    }\n",
       "\n",
       "    .dataframe thead th {\n",
       "        text-align: right;\n",
       "    }\n",
       "</style>\n",
       "<table border=\"1\" class=\"dataframe\">\n",
       "  <thead>\n",
       "    <tr style=\"text-align: right;\">\n",
       "      <th></th>\n",
       "      <th>TotalVisits</th>\n",
       "      <th>Total Time Spent on Website</th>\n",
       "      <th>Page Views Per Visit</th>\n",
       "      <th>A free copy of Mastering The Interview_Yes</th>\n",
       "      <th>City_Other Cities</th>\n",
       "      <th>City_Other Cities of Maharashtra</th>\n",
       "      <th>City_Other Metro Cities</th>\n",
       "      <th>City_Select</th>\n",
       "      <th>City_Thane &amp; Outskirts</th>\n",
       "      <th>City_Tier II Cities</th>\n",
       "      <th>...</th>\n",
       "      <th>Specialization_Not Specified</th>\n",
       "      <th>Specialization_Rural and Agribusiness</th>\n",
       "      <th>Specialization_Select</th>\n",
       "      <th>Specialization_Services Excellence</th>\n",
       "      <th>Specialization_Travel and Tourism</th>\n",
       "      <th>What is your current occupation_Housewife</th>\n",
       "      <th>What is your current occupation_Other</th>\n",
       "      <th>What is your current occupation_Student</th>\n",
       "      <th>What is your current occupation_Unemployed</th>\n",
       "      <th>What is your current occupation_Working Professional</th>\n",
       "    </tr>\n",
       "  </thead>\n",
       "  <tbody>\n",
       "    <tr>\n",
       "      <th>690</th>\n",
       "      <td>-0.377623</td>\n",
       "      <td>2.074796</td>\n",
       "      <td>-0.130484</td>\n",
       "      <td>0</td>\n",
       "      <td>0</td>\n",
       "      <td>0</td>\n",
       "      <td>0</td>\n",
       "      <td>0</td>\n",
       "      <td>1</td>\n",
       "      <td>0</td>\n",
       "      <td>...</td>\n",
       "      <td>0</td>\n",
       "      <td>0</td>\n",
       "      <td>0</td>\n",
       "      <td>0</td>\n",
       "      <td>0</td>\n",
       "      <td>0</td>\n",
       "      <td>0</td>\n",
       "      <td>0</td>\n",
       "      <td>1</td>\n",
       "      <td>0</td>\n",
       "    </tr>\n",
       "    <tr>\n",
       "      <th>1215</th>\n",
       "      <td>-1.127801</td>\n",
       "      <td>-0.867926</td>\n",
       "      <td>-1.145716</td>\n",
       "      <td>0</td>\n",
       "      <td>1</td>\n",
       "      <td>0</td>\n",
       "      <td>0</td>\n",
       "      <td>0</td>\n",
       "      <td>0</td>\n",
       "      <td>0</td>\n",
       "      <td>...</td>\n",
       "      <td>1</td>\n",
       "      <td>0</td>\n",
       "      <td>0</td>\n",
       "      <td>0</td>\n",
       "      <td>0</td>\n",
       "      <td>0</td>\n",
       "      <td>0</td>\n",
       "      <td>0</td>\n",
       "      <td>1</td>\n",
       "      <td>0</td>\n",
       "    </tr>\n",
       "    <tr>\n",
       "      <th>5238</th>\n",
       "      <td>0.372555</td>\n",
       "      <td>-0.161303</td>\n",
       "      <td>0.884748</td>\n",
       "      <td>0</td>\n",
       "      <td>0</td>\n",
       "      <td>1</td>\n",
       "      <td>0</td>\n",
       "      <td>0</td>\n",
       "      <td>0</td>\n",
       "      <td>0</td>\n",
       "      <td>...</td>\n",
       "      <td>0</td>\n",
       "      <td>0</td>\n",
       "      <td>0</td>\n",
       "      <td>0</td>\n",
       "      <td>0</td>\n",
       "      <td>0</td>\n",
       "      <td>0</td>\n",
       "      <td>0</td>\n",
       "      <td>1</td>\n",
       "      <td>0</td>\n",
       "    </tr>\n",
       "    <tr>\n",
       "      <th>135</th>\n",
       "      <td>0.747643</td>\n",
       "      <td>1.144933</td>\n",
       "      <td>1.392364</td>\n",
       "      <td>0</td>\n",
       "      <td>0</td>\n",
       "      <td>0</td>\n",
       "      <td>0</td>\n",
       "      <td>0</td>\n",
       "      <td>0</td>\n",
       "      <td>0</td>\n",
       "      <td>...</td>\n",
       "      <td>0</td>\n",
       "      <td>0</td>\n",
       "      <td>0</td>\n",
       "      <td>0</td>\n",
       "      <td>0</td>\n",
       "      <td>0</td>\n",
       "      <td>0</td>\n",
       "      <td>0</td>\n",
       "      <td>1</td>\n",
       "      <td>0</td>\n",
       "    </tr>\n",
       "    <tr>\n",
       "      <th>4425</th>\n",
       "      <td>-1.127801</td>\n",
       "      <td>-0.867926</td>\n",
       "      <td>-1.145716</td>\n",
       "      <td>0</td>\n",
       "      <td>0</td>\n",
       "      <td>0</td>\n",
       "      <td>0</td>\n",
       "      <td>1</td>\n",
       "      <td>0</td>\n",
       "      <td>0</td>\n",
       "      <td>...</td>\n",
       "      <td>0</td>\n",
       "      <td>0</td>\n",
       "      <td>1</td>\n",
       "      <td>0</td>\n",
       "      <td>0</td>\n",
       "      <td>0</td>\n",
       "      <td>0</td>\n",
       "      <td>0</td>\n",
       "      <td>1</td>\n",
       "      <td>0</td>\n",
       "    </tr>\n",
       "  </tbody>\n",
       "</table>\n",
       "<p>5 rows × 92 columns</p>\n",
       "</div>"
      ],
      "text/plain": [
       "      TotalVisits  Total Time Spent on Website  Page Views Per Visit  \\\n",
       "690     -0.377623                     2.074796             -0.130484   \n",
       "1215    -1.127801                    -0.867926             -1.145716   \n",
       "5238     0.372555                    -0.161303              0.884748   \n",
       "135      0.747643                     1.144933              1.392364   \n",
       "4425    -1.127801                    -0.867926             -1.145716   \n",
       "\n",
       "      A free copy of Mastering The Interview_Yes  City_Other Cities  \\\n",
       "690                                            0                  0   \n",
       "1215                                           0                  1   \n",
       "5238                                           0                  0   \n",
       "135                                            0                  0   \n",
       "4425                                           0                  0   \n",
       "\n",
       "      City_Other Cities of Maharashtra  City_Other Metro Cities  City_Select  \\\n",
       "690                                  0                        0            0   \n",
       "1215                                 0                        0            0   \n",
       "5238                                 1                        0            0   \n",
       "135                                  0                        0            0   \n",
       "4425                                 0                        0            1   \n",
       "\n",
       "      City_Thane & Outskirts  City_Tier II Cities  ...  \\\n",
       "690                        1                    0  ...   \n",
       "1215                       0                    0  ...   \n",
       "5238                       0                    0  ...   \n",
       "135                        0                    0  ...   \n",
       "4425                       0                    0  ...   \n",
       "\n",
       "      Specialization_Not Specified  Specialization_Rural and Agribusiness  \\\n",
       "690                              0                                      0   \n",
       "1215                             1                                      0   \n",
       "5238                             0                                      0   \n",
       "135                              0                                      0   \n",
       "4425                             0                                      0   \n",
       "\n",
       "      Specialization_Select  Specialization_Services Excellence  \\\n",
       "690                       0                                   0   \n",
       "1215                      0                                   0   \n",
       "5238                      0                                   0   \n",
       "135                       0                                   0   \n",
       "4425                      1                                   0   \n",
       "\n",
       "      Specialization_Travel and Tourism  \\\n",
       "690                                   0   \n",
       "1215                                  0   \n",
       "5238                                  0   \n",
       "135                                   0   \n",
       "4425                                  0   \n",
       "\n",
       "      What is your current occupation_Housewife  \\\n",
       "690                                           0   \n",
       "1215                                          0   \n",
       "5238                                          0   \n",
       "135                                           0   \n",
       "4425                                          0   \n",
       "\n",
       "      What is your current occupation_Other  \\\n",
       "690                                       0   \n",
       "1215                                      0   \n",
       "5238                                      0   \n",
       "135                                       0   \n",
       "4425                                      0   \n",
       "\n",
       "      What is your current occupation_Student  \\\n",
       "690                                         0   \n",
       "1215                                        0   \n",
       "5238                                        0   \n",
       "135                                         0   \n",
       "4425                                        0   \n",
       "\n",
       "      What is your current occupation_Unemployed  \\\n",
       "690                                            1   \n",
       "1215                                           1   \n",
       "5238                                           1   \n",
       "135                                            1   \n",
       "4425                                           1   \n",
       "\n",
       "      What is your current occupation_Working Professional  \n",
       "690                                                   0     \n",
       "1215                                                  0     \n",
       "5238                                                  0     \n",
       "135                                                   0     \n",
       "4425                                                  0     \n",
       "\n",
       "[5 rows x 92 columns]"
      ]
     },
     "execution_count": 77,
     "metadata": {},
     "output_type": "execute_result"
    }
   ],
   "source": [
    "from sklearn.preprocessing import StandardScaler\n",
    "\n",
    "scaler = StandardScaler()\n",
    "\n",
    "num_cols=x_train.select_dtypes(include=['float64']).columns\n",
    "\n",
    "x_train[num_cols] = scaler.fit_transform(x_train[num_cols])\n",
    "\n",
    "x_train.head()"
   ]
  },
  {
   "cell_type": "code",
   "execution_count": 78,
   "metadata": {},
   "outputs": [],
   "source": [
    "import statsmodels.api as sm\n",
    "from sklearn.linear_model import LogisticRegression\n",
    "logreg = LogisticRegression()"
   ]
  },
  {
   "cell_type": "code",
   "execution_count": 79,
   "metadata": {},
   "outputs": [
    {
     "data": {
      "text/plain": [
       "LogisticRegression()"
      ]
     },
     "execution_count": 79,
     "metadata": {},
     "output_type": "execute_result"
    }
   ],
   "source": [
    "logreg.fit(x_train,y_train)"
   ]
  },
  {
   "cell_type": "code",
   "execution_count": 80,
   "metadata": {},
   "outputs": [],
   "source": [
    "y_pred_train_dec = logreg.predict(x_train)\n",
    "y_pred_valid_dec = logreg.predict(x_validation)"
   ]
  },
  {
   "cell_type": "code",
   "execution_count": 81,
   "metadata": {},
   "outputs": [
    {
     "data": {
      "text/html": [
       "<div>\n",
       "<style scoped>\n",
       "    .dataframe tbody tr th:only-of-type {\n",
       "        vertical-align: middle;\n",
       "    }\n",
       "\n",
       "    .dataframe tbody tr th {\n",
       "        vertical-align: top;\n",
       "    }\n",
       "\n",
       "    .dataframe thead th {\n",
       "        text-align: right;\n",
       "    }\n",
       "</style>\n",
       "<table border=\"1\" class=\"dataframe\">\n",
       "  <thead>\n",
       "    <tr style=\"text-align: right;\">\n",
       "      <th></th>\n",
       "      <th>Converted</th>\n",
       "      <th>Converted_prob</th>\n",
       "      <th>Prospect ID</th>\n",
       "    </tr>\n",
       "  </thead>\n",
       "  <tbody>\n",
       "    <tr>\n",
       "      <th>0</th>\n",
       "      <td>0</td>\n",
       "      <td>0</td>\n",
       "      <td>690</td>\n",
       "    </tr>\n",
       "    <tr>\n",
       "      <th>1</th>\n",
       "      <td>0</td>\n",
       "      <td>0</td>\n",
       "      <td>1215</td>\n",
       "    </tr>\n",
       "    <tr>\n",
       "      <th>2</th>\n",
       "      <td>0</td>\n",
       "      <td>0</td>\n",
       "      <td>5238</td>\n",
       "    </tr>\n",
       "    <tr>\n",
       "      <th>3</th>\n",
       "      <td>1</td>\n",
       "      <td>1</td>\n",
       "      <td>135</td>\n",
       "    </tr>\n",
       "    <tr>\n",
       "      <th>4</th>\n",
       "      <td>0</td>\n",
       "      <td>1</td>\n",
       "      <td>4425</td>\n",
       "    </tr>\n",
       "    <tr>\n",
       "      <th>5</th>\n",
       "      <td>0</td>\n",
       "      <td>0</td>\n",
       "      <td>6266</td>\n",
       "    </tr>\n",
       "    <tr>\n",
       "      <th>6</th>\n",
       "      <td>0</td>\n",
       "      <td>0</td>\n",
       "      <td>8319</td>\n",
       "    </tr>\n",
       "    <tr>\n",
       "      <th>7</th>\n",
       "      <td>1</td>\n",
       "      <td>1</td>\n",
       "      <td>851</td>\n",
       "    </tr>\n",
       "    <tr>\n",
       "      <th>8</th>\n",
       "      <td>1</td>\n",
       "      <td>0</td>\n",
       "      <td>8805</td>\n",
       "    </tr>\n",
       "    <tr>\n",
       "      <th>9</th>\n",
       "      <td>0</td>\n",
       "      <td>0</td>\n",
       "      <td>6275</td>\n",
       "    </tr>\n",
       "  </tbody>\n",
       "</table>\n",
       "</div>"
      ],
      "text/plain": [
       "  Converted  Converted_prob  Prospect ID\n",
       "0         0               0          690\n",
       "1         0               0         1215\n",
       "2         0               0         5238\n",
       "3         1               1          135\n",
       "4         0               1         4425\n",
       "5         0               0         6266\n",
       "6         0               0         8319\n",
       "7         1               1          851\n",
       "8         1               0         8805\n",
       "9         0               0         6275"
      ]
     },
     "execution_count": 81,
     "metadata": {},
     "output_type": "execute_result"
    }
   ],
   "source": [
    "y_train_pred_final = pd.DataFrame({'Converted':y_train.values, 'Converted_prob':y_pred_train_dec})\n",
    "y_train_pred_final['Prospect ID'] = y_train.index\n",
    "y_train_pred_final.head(10)"
   ]
  },
  {
   "cell_type": "code",
   "execution_count": 82,
   "metadata": {},
   "outputs": [
    {
     "name": "stdout",
     "output_type": "stream",
     "text": [
      "[[3463  393]\n",
      " [ 617 1743]]\n"
     ]
    }
   ],
   "source": [
    "from sklearn import metrics\n",
    "\n",
    "# Confusion matrix \n",
    "confusion = metrics.confusion_matrix(y_train_pred_final.Converted, y_train_pred_final.Converted_prob )\n",
    "print(confusion)"
   ]
  },
  {
   "cell_type": "code",
   "execution_count": 83,
   "metadata": {},
   "outputs": [
    {
     "name": "stdout",
     "output_type": "stream",
     "text": [
      "0.8375160875160875\n"
     ]
    }
   ],
   "source": [
    "print(metrics.accuracy_score(y_train_pred_final.Converted, y_train_pred_final.Converted_prob))\n"
   ]
  },
  {
   "cell_type": "code",
   "execution_count": 84,
   "metadata": {},
   "outputs": [],
   "source": [
    "from sklearn.tree import DecisionTreeClassifier"
   ]
  },
  {
   "cell_type": "code",
   "execution_count": 101,
   "metadata": {},
   "outputs": [],
   "source": [
    "decision = DecisionTreeClassifier(max_depth=8,class_weight='balanced',random_state=1,min_samples_split=5,splitter='random')\n",
    "decision.fit(x_train, y_train)\n",
    "y_pred_valid2 = decision.predict(x_validation)\n",
    "y_pred_train2= decision.predict(x_train)"
   ]
  },
  {
   "cell_type": "code",
   "execution_count": 102,
   "metadata": {},
   "outputs": [
    {
     "data": {
      "text/html": [
       "<div>\n",
       "<style scoped>\n",
       "    .dataframe tbody tr th:only-of-type {\n",
       "        vertical-align: middle;\n",
       "    }\n",
       "\n",
       "    .dataframe tbody tr th {\n",
       "        vertical-align: top;\n",
       "    }\n",
       "\n",
       "    .dataframe thead th {\n",
       "        text-align: right;\n",
       "    }\n",
       "</style>\n",
       "<table border=\"1\" class=\"dataframe\">\n",
       "  <thead>\n",
       "    <tr style=\"text-align: right;\">\n",
       "      <th></th>\n",
       "      <th>Converted2</th>\n",
       "      <th>Converted_prob2</th>\n",
       "      <th>Prospect ID</th>\n",
       "    </tr>\n",
       "  </thead>\n",
       "  <tbody>\n",
       "    <tr>\n",
       "      <th>0</th>\n",
       "      <td>0</td>\n",
       "      <td>0</td>\n",
       "      <td>690</td>\n",
       "    </tr>\n",
       "    <tr>\n",
       "      <th>1</th>\n",
       "      <td>0</td>\n",
       "      <td>0</td>\n",
       "      <td>1215</td>\n",
       "    </tr>\n",
       "    <tr>\n",
       "      <th>2</th>\n",
       "      <td>0</td>\n",
       "      <td>0</td>\n",
       "      <td>5238</td>\n",
       "    </tr>\n",
       "    <tr>\n",
       "      <th>3</th>\n",
       "      <td>1</td>\n",
       "      <td>1</td>\n",
       "      <td>135</td>\n",
       "    </tr>\n",
       "    <tr>\n",
       "      <th>4</th>\n",
       "      <td>0</td>\n",
       "      <td>1</td>\n",
       "      <td>4425</td>\n",
       "    </tr>\n",
       "    <tr>\n",
       "      <th>5</th>\n",
       "      <td>0</td>\n",
       "      <td>0</td>\n",
       "      <td>6266</td>\n",
       "    </tr>\n",
       "    <tr>\n",
       "      <th>6</th>\n",
       "      <td>0</td>\n",
       "      <td>0</td>\n",
       "      <td>8319</td>\n",
       "    </tr>\n",
       "    <tr>\n",
       "      <th>7</th>\n",
       "      <td>1</td>\n",
       "      <td>1</td>\n",
       "      <td>851</td>\n",
       "    </tr>\n",
       "    <tr>\n",
       "      <th>8</th>\n",
       "      <td>1</td>\n",
       "      <td>1</td>\n",
       "      <td>8805</td>\n",
       "    </tr>\n",
       "    <tr>\n",
       "      <th>9</th>\n",
       "      <td>0</td>\n",
       "      <td>0</td>\n",
       "      <td>6275</td>\n",
       "    </tr>\n",
       "  </tbody>\n",
       "</table>\n",
       "</div>"
      ],
      "text/plain": [
       "  Converted2  Converted_prob2  Prospect ID\n",
       "0          0                0          690\n",
       "1          0                0         1215\n",
       "2          0                0         5238\n",
       "3          1                1          135\n",
       "4          0                1         4425\n",
       "5          0                0         6266\n",
       "6          0                0         8319\n",
       "7          1                1          851\n",
       "8          1                1         8805\n",
       "9          0                0         6275"
      ]
     },
     "execution_count": 102,
     "metadata": {},
     "output_type": "execute_result"
    }
   ],
   "source": [
    "y_train_pred_final = pd.DataFrame({'Converted2':y_train.values, 'Converted_prob2':y_pred_train2})\n",
    "y_train_pred_final['Prospect ID'] = y_train.index\n",
    "y_train_pred_final.head(10)"
   ]
  },
  {
   "cell_type": "code",
   "execution_count": 103,
   "metadata": {},
   "outputs": [
    {
     "name": "stdout",
     "output_type": "stream",
     "text": [
      "[[3255  601]\n",
      " [ 363 1997]]\n"
     ]
    }
   ],
   "source": [
    "from sklearn import metrics\n",
    "\n",
    "# Confusion matrix \n",
    "confusion = metrics.confusion_matrix(y_train_pred_final.Converted2, y_train_pred_final.Converted_prob2 )\n",
    "print(confusion)"
   ]
  },
  {
   "cell_type": "code",
   "execution_count": 104,
   "metadata": {},
   "outputs": [
    {
     "name": "stdout",
     "output_type": "stream",
     "text": [
      "0.8449163449163449\n"
     ]
    }
   ],
   "source": [
    "print(metrics.accuracy_score(y_train_pred_final.Converted2, y_train_pred_final.Converted_prob2))\n"
   ]
  },
  {
   "cell_type": "code",
   "execution_count": null,
   "metadata": {},
   "outputs": [],
   "source": []
  }
 ],
 "metadata": {
  "kernelspec": {
   "display_name": "Python 3",
   "language": "python",
   "name": "python3"
  },
  "language_info": {
   "codemirror_mode": {
    "name": "ipython",
    "version": 3
   },
   "file_extension": ".py",
   "mimetype": "text/x-python",
   "name": "python",
   "nbconvert_exporter": "python",
   "pygments_lexer": "ipython3",
   "version": "3.7.4"
  }
 },
 "nbformat": 4,
 "nbformat_minor": 4
}
